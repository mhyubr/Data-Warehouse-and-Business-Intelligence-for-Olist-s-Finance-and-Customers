{
  "cells": [
    {
      "cell_type": "code",
      "execution_count": null,
      "metadata": {
        "id": "NcczJSzwczZo"
      },
      "outputs": [],
      "source": [
        "import pandas as pd"
      ]
    },
    {
      "cell_type": "markdown",
      "metadata": {
        "id": "4XrKXh9mbwLh"
      },
      "source": [
        "# Dataset"
      ]
    },
    {
      "cell_type": "code",
      "execution_count": null,
      "metadata": {
        "id": "GZ4ESdZUc-74",
        "colab": {
          "base_uri": "https://localhost:8080/"
        },
        "outputId": "cdb623c8-63bd-4742-a2cc-fb535084e09f"
      },
      "outputs": [
        {
          "output_type": "stream",
          "name": "stdout",
          "text": [
            "Drive already mounted at /content/drive; to attempt to forcibly remount, call drive.mount(\"/content/drive\", force_remount=True).\n"
          ]
        }
      ],
      "source": [
        "from google.colab import drive\n",
        "drive.mount('/content/drive')"
      ]
    },
    {
      "cell_type": "code",
      "execution_count": null,
      "metadata": {
        "id": "QtGE4kjDkr19",
        "colab": {
          "base_uri": "https://localhost:8080/",
          "height": 305
        },
        "outputId": "7beae46b-a812-4ccf-9f23-9d1e0897527f"
      },
      "outputs": [
        {
          "output_type": "execute_result",
          "data": {
            "text/plain": [
              "                        customer_id          customer_city  \\\n",
              "0  3ce436f183e68e07877b285a838db11a  campos dos goytacazes   \n",
              "1  f6dd3ec061db4e3987629fe6b26e5cce        santa fe do sul   \n",
              "2  6489ae5e4333f3693df5ad4372dab6d3          para de minas   \n",
              "3  d4eb9395c8c0431ee92fce09860c5a06                atibaia   \n",
              "4  58dbd0b2d70206bf40e62cd34e84d795        varzea paulista   \n",
              "\n",
              "                           order_id order_status order_purchase_timestamp  \\\n",
              "0  00010242fe8c5a6d1ba2dd792cb16214    delivered       2017-09-13 8:59:02   \n",
              "1  00018f77f2f0320c557190d7a144bdd3    delivered      2017-04-26 10:53:06   \n",
              "2  000229ec398224ef6ca0657da4fc703e    delivered      2018-01-14 14:33:31   \n",
              "3  00024acbcdf0a6daa1e931b038114c75    delivered      2018-08-08 10:00:35   \n",
              "4  00042b26cf59d7ce69dfabb4e55b4fd9    delivered      2017-02-04 13:57:51   \n",
              "\n",
              "  order_delivered_customer_date order_estimated_delivery_date  payment_value  \\\n",
              "0           2017-09-20 23:43:48            2017-09-29 0:00:00           72.2   \n",
              "1           2017-05-12 16:04:24            2017-05-15 0:00:00          259.8   \n",
              "2           2018-01-22 13:19:16            2018-02-05 0:00:00          216.9   \n",
              "3           2018-08-14 13:32:39            2018-08-20 0:00:00           25.8   \n",
              "4           2017-03-01 16:42:31            2017-03-17 0:00:00          218.0   \n",
              "\n",
              "                         product_id product_category_name  order_item_id  \\\n",
              "0  4244733e06e7ecb4970a6e2683c13e61            cool_stuff              1   \n",
              "1  e5f2d52b802189ee658865ca93d83a8f              pet_shop              1   \n",
              "2  c777355d18b72b67abbeef9df44fd0fd      moveis_decoracao              1   \n",
              "3  7634da152a4610f1595efa32f14722fc            perfumaria              1   \n",
              "4  ac6c3623068f30de03045865e4e10089    ferramentas_jardim              1   \n",
              "\n",
              "   price                         seller_id    seller_city  \\\n",
              "0   58.9  48436dade18ac8b2bce089ec2a041202  volta redonda   \n",
              "1  239.9  dd7ddc04e1b6c2c614352b383efe2d36      sao paulo   \n",
              "2  199.0  5b51032eddd242adc84c38acab88f23d  borda da mata   \n",
              "3   13.0  9d7a1d34a5052409006425275ba1c2b4         franca   \n",
              "4  199.9  df560393f3a51e74553ab94004ba5c87         loanda   \n",
              "\n",
              "   order_processing_time  delay_day delay_state  \n",
              "0                    6.0        7.0     On Time  \n",
              "1                   13.0        1.0     On Time  \n",
              "2                    5.0       10.0     On Time  \n",
              "3                    5.0        4.0     On Time  \n",
              "4                   18.0       12.0     On Time  "
            ],
            "text/html": [
              "\n",
              "  <div id=\"df-6535e2ae-575c-4c6f-bd4f-7fb218dac792\">\n",
              "    <div class=\"colab-df-container\">\n",
              "      <div>\n",
              "<style scoped>\n",
              "    .dataframe tbody tr th:only-of-type {\n",
              "        vertical-align: middle;\n",
              "    }\n",
              "\n",
              "    .dataframe tbody tr th {\n",
              "        vertical-align: top;\n",
              "    }\n",
              "\n",
              "    .dataframe thead th {\n",
              "        text-align: right;\n",
              "    }\n",
              "</style>\n",
              "<table border=\"1\" class=\"dataframe\">\n",
              "  <thead>\n",
              "    <tr style=\"text-align: right;\">\n",
              "      <th></th>\n",
              "      <th>customer_id</th>\n",
              "      <th>customer_city</th>\n",
              "      <th>order_id</th>\n",
              "      <th>order_status</th>\n",
              "      <th>order_purchase_timestamp</th>\n",
              "      <th>order_delivered_customer_date</th>\n",
              "      <th>order_estimated_delivery_date</th>\n",
              "      <th>payment_value</th>\n",
              "      <th>product_id</th>\n",
              "      <th>product_category_name</th>\n",
              "      <th>order_item_id</th>\n",
              "      <th>price</th>\n",
              "      <th>seller_id</th>\n",
              "      <th>seller_city</th>\n",
              "      <th>order_processing_time</th>\n",
              "      <th>delay_day</th>\n",
              "      <th>delay_state</th>\n",
              "    </tr>\n",
              "  </thead>\n",
              "  <tbody>\n",
              "    <tr>\n",
              "      <th>0</th>\n",
              "      <td>3ce436f183e68e07877b285a838db11a</td>\n",
              "      <td>campos dos goytacazes</td>\n",
              "      <td>00010242fe8c5a6d1ba2dd792cb16214</td>\n",
              "      <td>delivered</td>\n",
              "      <td>2017-09-13 8:59:02</td>\n",
              "      <td>2017-09-20 23:43:48</td>\n",
              "      <td>2017-09-29 0:00:00</td>\n",
              "      <td>72.2</td>\n",
              "      <td>4244733e06e7ecb4970a6e2683c13e61</td>\n",
              "      <td>cool_stuff</td>\n",
              "      <td>1</td>\n",
              "      <td>58.9</td>\n",
              "      <td>48436dade18ac8b2bce089ec2a041202</td>\n",
              "      <td>volta redonda</td>\n",
              "      <td>6.0</td>\n",
              "      <td>7.0</td>\n",
              "      <td>On Time</td>\n",
              "    </tr>\n",
              "    <tr>\n",
              "      <th>1</th>\n",
              "      <td>f6dd3ec061db4e3987629fe6b26e5cce</td>\n",
              "      <td>santa fe do sul</td>\n",
              "      <td>00018f77f2f0320c557190d7a144bdd3</td>\n",
              "      <td>delivered</td>\n",
              "      <td>2017-04-26 10:53:06</td>\n",
              "      <td>2017-05-12 16:04:24</td>\n",
              "      <td>2017-05-15 0:00:00</td>\n",
              "      <td>259.8</td>\n",
              "      <td>e5f2d52b802189ee658865ca93d83a8f</td>\n",
              "      <td>pet_shop</td>\n",
              "      <td>1</td>\n",
              "      <td>239.9</td>\n",
              "      <td>dd7ddc04e1b6c2c614352b383efe2d36</td>\n",
              "      <td>sao paulo</td>\n",
              "      <td>13.0</td>\n",
              "      <td>1.0</td>\n",
              "      <td>On Time</td>\n",
              "    </tr>\n",
              "    <tr>\n",
              "      <th>2</th>\n",
              "      <td>6489ae5e4333f3693df5ad4372dab6d3</td>\n",
              "      <td>para de minas</td>\n",
              "      <td>000229ec398224ef6ca0657da4fc703e</td>\n",
              "      <td>delivered</td>\n",
              "      <td>2018-01-14 14:33:31</td>\n",
              "      <td>2018-01-22 13:19:16</td>\n",
              "      <td>2018-02-05 0:00:00</td>\n",
              "      <td>216.9</td>\n",
              "      <td>c777355d18b72b67abbeef9df44fd0fd</td>\n",
              "      <td>moveis_decoracao</td>\n",
              "      <td>1</td>\n",
              "      <td>199.0</td>\n",
              "      <td>5b51032eddd242adc84c38acab88f23d</td>\n",
              "      <td>borda da mata</td>\n",
              "      <td>5.0</td>\n",
              "      <td>10.0</td>\n",
              "      <td>On Time</td>\n",
              "    </tr>\n",
              "    <tr>\n",
              "      <th>3</th>\n",
              "      <td>d4eb9395c8c0431ee92fce09860c5a06</td>\n",
              "      <td>atibaia</td>\n",
              "      <td>00024acbcdf0a6daa1e931b038114c75</td>\n",
              "      <td>delivered</td>\n",
              "      <td>2018-08-08 10:00:35</td>\n",
              "      <td>2018-08-14 13:32:39</td>\n",
              "      <td>2018-08-20 0:00:00</td>\n",
              "      <td>25.8</td>\n",
              "      <td>7634da152a4610f1595efa32f14722fc</td>\n",
              "      <td>perfumaria</td>\n",
              "      <td>1</td>\n",
              "      <td>13.0</td>\n",
              "      <td>9d7a1d34a5052409006425275ba1c2b4</td>\n",
              "      <td>franca</td>\n",
              "      <td>5.0</td>\n",
              "      <td>4.0</td>\n",
              "      <td>On Time</td>\n",
              "    </tr>\n",
              "    <tr>\n",
              "      <th>4</th>\n",
              "      <td>58dbd0b2d70206bf40e62cd34e84d795</td>\n",
              "      <td>varzea paulista</td>\n",
              "      <td>00042b26cf59d7ce69dfabb4e55b4fd9</td>\n",
              "      <td>delivered</td>\n",
              "      <td>2017-02-04 13:57:51</td>\n",
              "      <td>2017-03-01 16:42:31</td>\n",
              "      <td>2017-03-17 0:00:00</td>\n",
              "      <td>218.0</td>\n",
              "      <td>ac6c3623068f30de03045865e4e10089</td>\n",
              "      <td>ferramentas_jardim</td>\n",
              "      <td>1</td>\n",
              "      <td>199.9</td>\n",
              "      <td>df560393f3a51e74553ab94004ba5c87</td>\n",
              "      <td>loanda</td>\n",
              "      <td>18.0</td>\n",
              "      <td>12.0</td>\n",
              "      <td>On Time</td>\n",
              "    </tr>\n",
              "  </tbody>\n",
              "</table>\n",
              "</div>\n",
              "      <button class=\"colab-df-convert\" onclick=\"convertToInteractive('df-6535e2ae-575c-4c6f-bd4f-7fb218dac792')\"\n",
              "              title=\"Convert this dataframe to an interactive table.\"\n",
              "              style=\"display:none;\">\n",
              "        \n",
              "  <svg xmlns=\"http://www.w3.org/2000/svg\" height=\"24px\"viewBox=\"0 0 24 24\"\n",
              "       width=\"24px\">\n",
              "    <path d=\"M0 0h24v24H0V0z\" fill=\"none\"/>\n",
              "    <path d=\"M18.56 5.44l.94 2.06.94-2.06 2.06-.94-2.06-.94-.94-2.06-.94 2.06-2.06.94zm-11 1L8.5 8.5l.94-2.06 2.06-.94-2.06-.94L8.5 2.5l-.94 2.06-2.06.94zm10 10l.94 2.06.94-2.06 2.06-.94-2.06-.94-.94-2.06-.94 2.06-2.06.94z\"/><path d=\"M17.41 7.96l-1.37-1.37c-.4-.4-.92-.59-1.43-.59-.52 0-1.04.2-1.43.59L10.3 9.45l-7.72 7.72c-.78.78-.78 2.05 0 2.83L4 21.41c.39.39.9.59 1.41.59.51 0 1.02-.2 1.41-.59l7.78-7.78 2.81-2.81c.8-.78.8-2.07 0-2.86zM5.41 20L4 18.59l7.72-7.72 1.47 1.35L5.41 20z\"/>\n",
              "  </svg>\n",
              "      </button>\n",
              "      \n",
              "  <style>\n",
              "    .colab-df-container {\n",
              "      display:flex;\n",
              "      flex-wrap:wrap;\n",
              "      gap: 12px;\n",
              "    }\n",
              "\n",
              "    .colab-df-convert {\n",
              "      background-color: #E8F0FE;\n",
              "      border: none;\n",
              "      border-radius: 50%;\n",
              "      cursor: pointer;\n",
              "      display: none;\n",
              "      fill: #1967D2;\n",
              "      height: 32px;\n",
              "      padding: 0 0 0 0;\n",
              "      width: 32px;\n",
              "    }\n",
              "\n",
              "    .colab-df-convert:hover {\n",
              "      background-color: #E2EBFA;\n",
              "      box-shadow: 0px 1px 2px rgba(60, 64, 67, 0.3), 0px 1px 3px 1px rgba(60, 64, 67, 0.15);\n",
              "      fill: #174EA6;\n",
              "    }\n",
              "\n",
              "    [theme=dark] .colab-df-convert {\n",
              "      background-color: #3B4455;\n",
              "      fill: #D2E3FC;\n",
              "    }\n",
              "\n",
              "    [theme=dark] .colab-df-convert:hover {\n",
              "      background-color: #434B5C;\n",
              "      box-shadow: 0px 1px 3px 1px rgba(0, 0, 0, 0.15);\n",
              "      filter: drop-shadow(0px 1px 2px rgba(0, 0, 0, 0.3));\n",
              "      fill: #FFFFFF;\n",
              "    }\n",
              "  </style>\n",
              "\n",
              "      <script>\n",
              "        const buttonEl =\n",
              "          document.querySelector('#df-6535e2ae-575c-4c6f-bd4f-7fb218dac792 button.colab-df-convert');\n",
              "        buttonEl.style.display =\n",
              "          google.colab.kernel.accessAllowed ? 'block' : 'none';\n",
              "\n",
              "        async function convertToInteractive(key) {\n",
              "          const element = document.querySelector('#df-6535e2ae-575c-4c6f-bd4f-7fb218dac792');\n",
              "          const dataTable =\n",
              "            await google.colab.kernel.invokeFunction('convertToInteractive',\n",
              "                                                     [key], {});\n",
              "          if (!dataTable) return;\n",
              "\n",
              "          const docLinkHtml = 'Like what you see? Visit the ' +\n",
              "            '<a target=\"_blank\" href=https://colab.research.google.com/notebooks/data_table.ipynb>data table notebook</a>'\n",
              "            + ' to learn more about interactive tables.';\n",
              "          element.innerHTML = '';\n",
              "          dataTable['output_type'] = 'display_data';\n",
              "          await google.colab.output.renderOutput(dataTable, element);\n",
              "          const docLink = document.createElement('div');\n",
              "          docLink.innerHTML = docLinkHtml;\n",
              "          element.appendChild(docLink);\n",
              "        }\n",
              "      </script>\n",
              "    </div>\n",
              "  </div>\n",
              "  "
            ]
          },
          "metadata": {},
          "execution_count": 3
        }
      ],
      "source": [
        "olist_dataset = pd.read_csv('/content/drive/MyDrive/TugasBesar-Kelas01-KelompokG/Olist_Financial_and_Customer.csv', on_bad_lines='skip')\n",
        "olist_dataset.head()"
      ]
    },
    {
      "cell_type": "code",
      "execution_count": null,
      "metadata": {
        "id": "wwA5QZVzmjqQ"
      },
      "outputs": [],
      "source": [
        "olist = olist_dataset.copy()"
      ]
    },
    {
      "cell_type": "code",
      "execution_count": null,
      "metadata": {
        "id": "26qlw-muk1Rh",
        "colab": {
          "base_uri": "https://localhost:8080/"
        },
        "outputId": "14b27724-abeb-4452-d609-da9092b9f813"
      },
      "outputs": [
        {
          "output_type": "stream",
          "name": "stdout",
          "text": [
            "<class 'pandas.core.frame.DataFrame'>\n",
            "RangeIndex: 117601 entries, 0 to 117600\n",
            "Data columns (total 17 columns):\n",
            " #   Column                         Non-Null Count   Dtype  \n",
            "---  ------                         --------------   -----  \n",
            " 0   customer_id                    117601 non-null  object \n",
            " 1   customer_city                  117601 non-null  object \n",
            " 2   order_id                       117601 non-null  object \n",
            " 3   order_status                   117601 non-null  object \n",
            " 4   order_purchase_timestamp       117601 non-null  object \n",
            " 5   order_delivered_customer_date  115034 non-null  object \n",
            " 6   order_estimated_delivery_date  117601 non-null  object \n",
            " 7   payment_value                  117601 non-null  float64\n",
            " 8   product_id                     117601 non-null  object \n",
            " 9   product_category_name          115903 non-null  object \n",
            " 10  order_item_id                  117601 non-null  int64  \n",
            " 11  price                          117601 non-null  float64\n",
            " 12  seller_id                      117601 non-null  object \n",
            " 13  seller_city                    117601 non-null  object \n",
            " 14  order_processing_time          115034 non-null  float64\n",
            " 15  delay_day                      115034 non-null  float64\n",
            " 16  delay_state                    117601 non-null  object \n",
            "dtypes: float64(4), int64(1), object(12)\n",
            "memory usage: 15.3+ MB\n"
          ]
        }
      ],
      "source": [
        "olist.info()"
      ]
    },
    {
      "cell_type": "markdown",
      "source": [
        "#  Preprocessing"
      ],
      "metadata": {
        "id": "VGsvJjV91_EC"
      }
    },
    {
      "cell_type": "code",
      "source": [
        "olist.duplicated().sum()"
      ],
      "metadata": {
        "colab": {
          "base_uri": "https://localhost:8080/"
        },
        "id": "T8t2TApX81Ep",
        "outputId": "2deb0746-c55d-404f-d987-3ea7721d0e7c"
      },
      "execution_count": null,
      "outputs": [
        {
          "output_type": "execute_result",
          "data": {
            "text/plain": [
              "774"
            ]
          },
          "metadata": {},
          "execution_count": 8
        }
      ]
    },
    {
      "cell_type": "code",
      "source": [
        "olist = olist.drop_duplicates()\n",
        "olist.duplicated().sum()"
      ],
      "metadata": {
        "colab": {
          "base_uri": "https://localhost:8080/"
        },
        "id": "0mtruqZx8-uq",
        "outputId": "4a4f32c1-e597-406c-b4f4-ffc738d46036"
      },
      "execution_count": null,
      "outputs": [
        {
          "output_type": "execute_result",
          "data": {
            "text/plain": [
              "0"
            ]
          },
          "metadata": {},
          "execution_count": 9
        }
      ]
    },
    {
      "cell_type": "code",
      "execution_count": null,
      "metadata": {
        "id": "RSbJU5uGtRL-",
        "colab": {
          "base_uri": "https://localhost:8080/"
        },
        "outputId": "7fc26aa6-8fa4-451c-d5c0-beba5209c5e0"
      },
      "outputs": [
        {
          "output_type": "execute_result",
          "data": {
            "text/plain": [
              "customer_id                         0\n",
              "customer_city                       0\n",
              "order_id                            0\n",
              "order_status                        0\n",
              "order_purchase_timestamp            0\n",
              "order_delivered_customer_date    2567\n",
              "order_estimated_delivery_date       0\n",
              "payment_value                       0\n",
              "product_id                          0\n",
              "product_category_name            1698\n",
              "order_item_id                       0\n",
              "price                               0\n",
              "seller_id                           0\n",
              "seller_city                         0\n",
              "order_processing_time            2567\n",
              "delay_day                        2567\n",
              "delay_state                         0\n",
              "dtype: int64"
            ]
          },
          "metadata": {},
          "execution_count": 6
        }
      ],
      "source": [
        "olist.isna().sum()"
      ]
    },
    {
      "cell_type": "code",
      "execution_count": null,
      "metadata": {
        "id": "lFmsCJritbFv",
        "colab": {
          "base_uri": "https://localhost:8080/"
        },
        "outputId": "9a50cf68-7d6d-4b25-c196-858c917643a5"
      },
      "outputs": [
        {
          "output_type": "execute_result",
          "data": {
            "text/plain": [
              "customer_id                      0\n",
              "customer_city                    0\n",
              "order_id                         0\n",
              "order_status                     0\n",
              "order_purchase_timestamp         0\n",
              "order_delivered_customer_date    0\n",
              "order_estimated_delivery_date    0\n",
              "payment_value                    0\n",
              "product_id                       0\n",
              "product_category_name            0\n",
              "order_item_id                    0\n",
              "price                            0\n",
              "seller_id                        0\n",
              "seller_city                      0\n",
              "order_processing_time            0\n",
              "delay_day                        0\n",
              "delay_state                      0\n",
              "dtype: int64"
            ]
          },
          "metadata": {},
          "execution_count": 7
        }
      ],
      "source": [
        "olist.dropna(inplace=True, axis=0)\n",
        "olist.isna().sum()"
      ]
    },
    {
      "cell_type": "code",
      "execution_count": null,
      "metadata": {
        "id": "QRoB7jkWujh6",
        "colab": {
          "base_uri": "https://localhost:8080/"
        },
        "outputId": "880c643e-d2cf-4a13-e547-b86dbd2939c9"
      },
      "outputs": [
        {
          "output_type": "execute_result",
          "data": {
            "text/plain": [
              "customer_id                       object\n",
              "customer_city                     object\n",
              "order_id                          object\n",
              "order_status                      object\n",
              "order_purchase_timestamp          object\n",
              "order_delivered_customer_date     object\n",
              "order_estimated_delivery_date     object\n",
              "payment_value                    float64\n",
              "product_id                        object\n",
              "product_category_name             object\n",
              "order_item_id                      int64\n",
              "price                            float64\n",
              "seller_id                         object\n",
              "seller_city                       object\n",
              "order_processing_time            float64\n",
              "delay_day                        float64\n",
              "delay_state                       object\n",
              "dtype: object"
            ]
          },
          "metadata": {},
          "execution_count": 8
        }
      ],
      "source": [
        "olist.dtypes"
      ]
    },
    {
      "cell_type": "code",
      "execution_count": null,
      "metadata": {
        "id": "59TdE05Ev8Jx"
      },
      "outputs": [],
      "source": [
        "olist['order_purchase_timestamp'] = pd.to_datetime(olist['order_purchase_timestamp'])\n",
        "olist['order_delivered_customer_date'] = pd.to_datetime(olist['order_delivered_customer_date'])\n",
        "olist['order_estimated_delivery_date'] = pd.to_datetime(olist['order_estimated_delivery_date'])"
      ]
    },
    {
      "cell_type": "code",
      "execution_count": null,
      "metadata": {
        "id": "DtjUJ3zOwR4-",
        "colab": {
          "base_uri": "https://localhost:8080/"
        },
        "outputId": "e0acffba-af48-4681-816e-c9f719213948"
      },
      "outputs": [
        {
          "output_type": "execute_result",
          "data": {
            "text/plain": [
              "customer_id                              object\n",
              "customer_city                            object\n",
              "order_id                                 object\n",
              "order_status                             object\n",
              "order_purchase_timestamp         datetime64[ns]\n",
              "order_delivered_customer_date    datetime64[ns]\n",
              "order_estimated_delivery_date    datetime64[ns]\n",
              "payment_value                           float64\n",
              "product_id                               object\n",
              "product_category_name                    object\n",
              "order_item_id                             int64\n",
              "price                                   float64\n",
              "seller_id                                object\n",
              "seller_city                              object\n",
              "order_processing_time                   float64\n",
              "delay_day                               float64\n",
              "delay_state                              object\n",
              "dtype: object"
            ]
          },
          "metadata": {},
          "execution_count": 10
        }
      ],
      "source": [
        "olist.dtypes"
      ]
    },
    {
      "cell_type": "code",
      "execution_count": null,
      "metadata": {
        "id": "OPsxU8jvt1Zf",
        "colab": {
          "base_uri": "https://localhost:8080/",
          "height": 206
        },
        "outputId": "477fe1b0-14f1-4bbf-9fa8-dc69a7678f25"
      },
      "outputs": [
        {
          "output_type": "execute_result",
          "data": {
            "text/plain": [
              "                          count        mean         std    min   25%     50%  \\\n",
              "payment_value          113406.0  172.254550  266.632645    0.0  61.0  108.15   \n",
              "order_item_id          113406.0    1.196824    0.701229    1.0   1.0    1.00   \n",
              "price                  113406.0  120.202333  182.831238    0.8  39.9   74.90   \n",
              "order_processing_time  113406.0    9.381946    6.739257    1.0   5.0    8.00   \n",
              "delay_day              113406.0    8.507381    7.402383 -135.0   5.0    9.00   \n",
              "\n",
              "                         75%      max  \n",
              "payment_value          189.4  13664.1  \n",
              "order_item_id            1.0     21.0  \n",
              "price                  133.9   6735.0  \n",
              "order_processing_time   12.0    150.0  \n",
              "delay_day               12.0    105.0  "
            ],
            "text/html": [
              "\n",
              "  <div id=\"df-f7355a40-e8a1-491d-a5b7-9cafd5127856\">\n",
              "    <div class=\"colab-df-container\">\n",
              "      <div>\n",
              "<style scoped>\n",
              "    .dataframe tbody tr th:only-of-type {\n",
              "        vertical-align: middle;\n",
              "    }\n",
              "\n",
              "    .dataframe tbody tr th {\n",
              "        vertical-align: top;\n",
              "    }\n",
              "\n",
              "    .dataframe thead th {\n",
              "        text-align: right;\n",
              "    }\n",
              "</style>\n",
              "<table border=\"1\" class=\"dataframe\">\n",
              "  <thead>\n",
              "    <tr style=\"text-align: right;\">\n",
              "      <th></th>\n",
              "      <th>count</th>\n",
              "      <th>mean</th>\n",
              "      <th>std</th>\n",
              "      <th>min</th>\n",
              "      <th>25%</th>\n",
              "      <th>50%</th>\n",
              "      <th>75%</th>\n",
              "      <th>max</th>\n",
              "    </tr>\n",
              "  </thead>\n",
              "  <tbody>\n",
              "    <tr>\n",
              "      <th>payment_value</th>\n",
              "      <td>113406.0</td>\n",
              "      <td>172.254550</td>\n",
              "      <td>266.632645</td>\n",
              "      <td>0.0</td>\n",
              "      <td>61.0</td>\n",
              "      <td>108.15</td>\n",
              "      <td>189.4</td>\n",
              "      <td>13664.1</td>\n",
              "    </tr>\n",
              "    <tr>\n",
              "      <th>order_item_id</th>\n",
              "      <td>113406.0</td>\n",
              "      <td>1.196824</td>\n",
              "      <td>0.701229</td>\n",
              "      <td>1.0</td>\n",
              "      <td>1.0</td>\n",
              "      <td>1.00</td>\n",
              "      <td>1.0</td>\n",
              "      <td>21.0</td>\n",
              "    </tr>\n",
              "    <tr>\n",
              "      <th>price</th>\n",
              "      <td>113406.0</td>\n",
              "      <td>120.202333</td>\n",
              "      <td>182.831238</td>\n",
              "      <td>0.8</td>\n",
              "      <td>39.9</td>\n",
              "      <td>74.90</td>\n",
              "      <td>133.9</td>\n",
              "      <td>6735.0</td>\n",
              "    </tr>\n",
              "    <tr>\n",
              "      <th>order_processing_time</th>\n",
              "      <td>113406.0</td>\n",
              "      <td>9.381946</td>\n",
              "      <td>6.739257</td>\n",
              "      <td>1.0</td>\n",
              "      <td>5.0</td>\n",
              "      <td>8.00</td>\n",
              "      <td>12.0</td>\n",
              "      <td>150.0</td>\n",
              "    </tr>\n",
              "    <tr>\n",
              "      <th>delay_day</th>\n",
              "      <td>113406.0</td>\n",
              "      <td>8.507381</td>\n",
              "      <td>7.402383</td>\n",
              "      <td>-135.0</td>\n",
              "      <td>5.0</td>\n",
              "      <td>9.00</td>\n",
              "      <td>12.0</td>\n",
              "      <td>105.0</td>\n",
              "    </tr>\n",
              "  </tbody>\n",
              "</table>\n",
              "</div>\n",
              "      <button class=\"colab-df-convert\" onclick=\"convertToInteractive('df-f7355a40-e8a1-491d-a5b7-9cafd5127856')\"\n",
              "              title=\"Convert this dataframe to an interactive table.\"\n",
              "              style=\"display:none;\">\n",
              "        \n",
              "  <svg xmlns=\"http://www.w3.org/2000/svg\" height=\"24px\"viewBox=\"0 0 24 24\"\n",
              "       width=\"24px\">\n",
              "    <path d=\"M0 0h24v24H0V0z\" fill=\"none\"/>\n",
              "    <path d=\"M18.56 5.44l.94 2.06.94-2.06 2.06-.94-2.06-.94-.94-2.06-.94 2.06-2.06.94zm-11 1L8.5 8.5l.94-2.06 2.06-.94-2.06-.94L8.5 2.5l-.94 2.06-2.06.94zm10 10l.94 2.06.94-2.06 2.06-.94-2.06-.94-.94-2.06-.94 2.06-2.06.94z\"/><path d=\"M17.41 7.96l-1.37-1.37c-.4-.4-.92-.59-1.43-.59-.52 0-1.04.2-1.43.59L10.3 9.45l-7.72 7.72c-.78.78-.78 2.05 0 2.83L4 21.41c.39.39.9.59 1.41.59.51 0 1.02-.2 1.41-.59l7.78-7.78 2.81-2.81c.8-.78.8-2.07 0-2.86zM5.41 20L4 18.59l7.72-7.72 1.47 1.35L5.41 20z\"/>\n",
              "  </svg>\n",
              "      </button>\n",
              "      \n",
              "  <style>\n",
              "    .colab-df-container {\n",
              "      display:flex;\n",
              "      flex-wrap:wrap;\n",
              "      gap: 12px;\n",
              "    }\n",
              "\n",
              "    .colab-df-convert {\n",
              "      background-color: #E8F0FE;\n",
              "      border: none;\n",
              "      border-radius: 50%;\n",
              "      cursor: pointer;\n",
              "      display: none;\n",
              "      fill: #1967D2;\n",
              "      height: 32px;\n",
              "      padding: 0 0 0 0;\n",
              "      width: 32px;\n",
              "    }\n",
              "\n",
              "    .colab-df-convert:hover {\n",
              "      background-color: #E2EBFA;\n",
              "      box-shadow: 0px 1px 2px rgba(60, 64, 67, 0.3), 0px 1px 3px 1px rgba(60, 64, 67, 0.15);\n",
              "      fill: #174EA6;\n",
              "    }\n",
              "\n",
              "    [theme=dark] .colab-df-convert {\n",
              "      background-color: #3B4455;\n",
              "      fill: #D2E3FC;\n",
              "    }\n",
              "\n",
              "    [theme=dark] .colab-df-convert:hover {\n",
              "      background-color: #434B5C;\n",
              "      box-shadow: 0px 1px 3px 1px rgba(0, 0, 0, 0.15);\n",
              "      filter: drop-shadow(0px 1px 2px rgba(0, 0, 0, 0.3));\n",
              "      fill: #FFFFFF;\n",
              "    }\n",
              "  </style>\n",
              "\n",
              "      <script>\n",
              "        const buttonEl =\n",
              "          document.querySelector('#df-f7355a40-e8a1-491d-a5b7-9cafd5127856 button.colab-df-convert');\n",
              "        buttonEl.style.display =\n",
              "          google.colab.kernel.accessAllowed ? 'block' : 'none';\n",
              "\n",
              "        async function convertToInteractive(key) {\n",
              "          const element = document.querySelector('#df-f7355a40-e8a1-491d-a5b7-9cafd5127856');\n",
              "          const dataTable =\n",
              "            await google.colab.kernel.invokeFunction('convertToInteractive',\n",
              "                                                     [key], {});\n",
              "          if (!dataTable) return;\n",
              "\n",
              "          const docLinkHtml = 'Like what you see? Visit the ' +\n",
              "            '<a target=\"_blank\" href=https://colab.research.google.com/notebooks/data_table.ipynb>data table notebook</a>'\n",
              "            + ' to learn more about interactive tables.';\n",
              "          element.innerHTML = '';\n",
              "          dataTable['output_type'] = 'display_data';\n",
              "          await google.colab.output.renderOutput(dataTable, element);\n",
              "          const docLink = document.createElement('div');\n",
              "          docLink.innerHTML = docLinkHtml;\n",
              "          element.appendChild(docLink);\n",
              "        }\n",
              "      </script>\n",
              "    </div>\n",
              "  </div>\n",
              "  "
            ]
          },
          "metadata": {},
          "execution_count": 11
        }
      ],
      "source": [
        "olist.describe(include=['float64', 'int64']).T"
      ]
    },
    {
      "cell_type": "code",
      "execution_count": null,
      "metadata": {
        "id": "URfkLI8svCYq",
        "colab": {
          "base_uri": "https://localhost:8080/",
          "height": 239
        },
        "outputId": "94ba14ee-957d-40a8-87d2-e694cb3c8606"
      },
      "outputs": [
        {
          "output_type": "execute_result",
          "data": {
            "text/plain": [
              "                             customer_id customer_city  \\\n",
              "count                             113406        113406   \n",
              "unique                             95143          4073   \n",
              "top     270c23a11d024a44c896d1894b261a83     sao paulo   \n",
              "freq                                  63         17869   \n",
              "\n",
              "                                order_id order_status  \\\n",
              "count                             113406       113406   \n",
              "unique                             95143            2   \n",
              "top     895ab968e7bb0d5659d16cd74cd1650c    delivered   \n",
              "freq                                  63       113399   \n",
              "\n",
              "                              product_id product_category_name  \\\n",
              "count                             113406                113406   \n",
              "unique                             31630                    73   \n",
              "top     aca2eb7d00ea1a7b8ebd4e68314663af       cama_mesa_banho   \n",
              "freq                                 529                 11650   \n",
              "\n",
              "                               seller_id seller_city delay_state  \n",
              "count                             113406      113406      113406  \n",
              "unique                              2914         588           2  \n",
              "top     4a3ca9315b744ce9f8e9374361493884   sao paulo     On Time  \n",
              "freq                                2094       28302      104529  "
            ],
            "text/html": [
              "\n",
              "  <div id=\"df-29089a22-9b11-46eb-8e5b-fab2455f1e28\">\n",
              "    <div class=\"colab-df-container\">\n",
              "      <div>\n",
              "<style scoped>\n",
              "    .dataframe tbody tr th:only-of-type {\n",
              "        vertical-align: middle;\n",
              "    }\n",
              "\n",
              "    .dataframe tbody tr th {\n",
              "        vertical-align: top;\n",
              "    }\n",
              "\n",
              "    .dataframe thead th {\n",
              "        text-align: right;\n",
              "    }\n",
              "</style>\n",
              "<table border=\"1\" class=\"dataframe\">\n",
              "  <thead>\n",
              "    <tr style=\"text-align: right;\">\n",
              "      <th></th>\n",
              "      <th>customer_id</th>\n",
              "      <th>customer_city</th>\n",
              "      <th>order_id</th>\n",
              "      <th>order_status</th>\n",
              "      <th>product_id</th>\n",
              "      <th>product_category_name</th>\n",
              "      <th>seller_id</th>\n",
              "      <th>seller_city</th>\n",
              "      <th>delay_state</th>\n",
              "    </tr>\n",
              "  </thead>\n",
              "  <tbody>\n",
              "    <tr>\n",
              "      <th>count</th>\n",
              "      <td>113406</td>\n",
              "      <td>113406</td>\n",
              "      <td>113406</td>\n",
              "      <td>113406</td>\n",
              "      <td>113406</td>\n",
              "      <td>113406</td>\n",
              "      <td>113406</td>\n",
              "      <td>113406</td>\n",
              "      <td>113406</td>\n",
              "    </tr>\n",
              "    <tr>\n",
              "      <th>unique</th>\n",
              "      <td>95143</td>\n",
              "      <td>4073</td>\n",
              "      <td>95143</td>\n",
              "      <td>2</td>\n",
              "      <td>31630</td>\n",
              "      <td>73</td>\n",
              "      <td>2914</td>\n",
              "      <td>588</td>\n",
              "      <td>2</td>\n",
              "    </tr>\n",
              "    <tr>\n",
              "      <th>top</th>\n",
              "      <td>270c23a11d024a44c896d1894b261a83</td>\n",
              "      <td>sao paulo</td>\n",
              "      <td>895ab968e7bb0d5659d16cd74cd1650c</td>\n",
              "      <td>delivered</td>\n",
              "      <td>aca2eb7d00ea1a7b8ebd4e68314663af</td>\n",
              "      <td>cama_mesa_banho</td>\n",
              "      <td>4a3ca9315b744ce9f8e9374361493884</td>\n",
              "      <td>sao paulo</td>\n",
              "      <td>On Time</td>\n",
              "    </tr>\n",
              "    <tr>\n",
              "      <th>freq</th>\n",
              "      <td>63</td>\n",
              "      <td>17869</td>\n",
              "      <td>63</td>\n",
              "      <td>113399</td>\n",
              "      <td>529</td>\n",
              "      <td>11650</td>\n",
              "      <td>2094</td>\n",
              "      <td>28302</td>\n",
              "      <td>104529</td>\n",
              "    </tr>\n",
              "  </tbody>\n",
              "</table>\n",
              "</div>\n",
              "      <button class=\"colab-df-convert\" onclick=\"convertToInteractive('df-29089a22-9b11-46eb-8e5b-fab2455f1e28')\"\n",
              "              title=\"Convert this dataframe to an interactive table.\"\n",
              "              style=\"display:none;\">\n",
              "        \n",
              "  <svg xmlns=\"http://www.w3.org/2000/svg\" height=\"24px\"viewBox=\"0 0 24 24\"\n",
              "       width=\"24px\">\n",
              "    <path d=\"M0 0h24v24H0V0z\" fill=\"none\"/>\n",
              "    <path d=\"M18.56 5.44l.94 2.06.94-2.06 2.06-.94-2.06-.94-.94-2.06-.94 2.06-2.06.94zm-11 1L8.5 8.5l.94-2.06 2.06-.94-2.06-.94L8.5 2.5l-.94 2.06-2.06.94zm10 10l.94 2.06.94-2.06 2.06-.94-2.06-.94-.94-2.06-.94 2.06-2.06.94z\"/><path d=\"M17.41 7.96l-1.37-1.37c-.4-.4-.92-.59-1.43-.59-.52 0-1.04.2-1.43.59L10.3 9.45l-7.72 7.72c-.78.78-.78 2.05 0 2.83L4 21.41c.39.39.9.59 1.41.59.51 0 1.02-.2 1.41-.59l7.78-7.78 2.81-2.81c.8-.78.8-2.07 0-2.86zM5.41 20L4 18.59l7.72-7.72 1.47 1.35L5.41 20z\"/>\n",
              "  </svg>\n",
              "      </button>\n",
              "      \n",
              "  <style>\n",
              "    .colab-df-container {\n",
              "      display:flex;\n",
              "      flex-wrap:wrap;\n",
              "      gap: 12px;\n",
              "    }\n",
              "\n",
              "    .colab-df-convert {\n",
              "      background-color: #E8F0FE;\n",
              "      border: none;\n",
              "      border-radius: 50%;\n",
              "      cursor: pointer;\n",
              "      display: none;\n",
              "      fill: #1967D2;\n",
              "      height: 32px;\n",
              "      padding: 0 0 0 0;\n",
              "      width: 32px;\n",
              "    }\n",
              "\n",
              "    .colab-df-convert:hover {\n",
              "      background-color: #E2EBFA;\n",
              "      box-shadow: 0px 1px 2px rgba(60, 64, 67, 0.3), 0px 1px 3px 1px rgba(60, 64, 67, 0.15);\n",
              "      fill: #174EA6;\n",
              "    }\n",
              "\n",
              "    [theme=dark] .colab-df-convert {\n",
              "      background-color: #3B4455;\n",
              "      fill: #D2E3FC;\n",
              "    }\n",
              "\n",
              "    [theme=dark] .colab-df-convert:hover {\n",
              "      background-color: #434B5C;\n",
              "      box-shadow: 0px 1px 3px 1px rgba(0, 0, 0, 0.15);\n",
              "      filter: drop-shadow(0px 1px 2px rgba(0, 0, 0, 0.3));\n",
              "      fill: #FFFFFF;\n",
              "    }\n",
              "  </style>\n",
              "\n",
              "      <script>\n",
              "        const buttonEl =\n",
              "          document.querySelector('#df-29089a22-9b11-46eb-8e5b-fab2455f1e28 button.colab-df-convert');\n",
              "        buttonEl.style.display =\n",
              "          google.colab.kernel.accessAllowed ? 'block' : 'none';\n",
              "\n",
              "        async function convertToInteractive(key) {\n",
              "          const element = document.querySelector('#df-29089a22-9b11-46eb-8e5b-fab2455f1e28');\n",
              "          const dataTable =\n",
              "            await google.colab.kernel.invokeFunction('convertToInteractive',\n",
              "                                                     [key], {});\n",
              "          if (!dataTable) return;\n",
              "\n",
              "          const docLinkHtml = 'Like what you see? Visit the ' +\n",
              "            '<a target=\"_blank\" href=https://colab.research.google.com/notebooks/data_table.ipynb>data table notebook</a>'\n",
              "            + ' to learn more about interactive tables.';\n",
              "          element.innerHTML = '';\n",
              "          dataTable['output_type'] = 'display_data';\n",
              "          await google.colab.output.renderOutput(dataTable, element);\n",
              "          const docLink = document.createElement('div');\n",
              "          docLink.innerHTML = docLinkHtml;\n",
              "          element.appendChild(docLink);\n",
              "        }\n",
              "      </script>\n",
              "    </div>\n",
              "  </div>\n",
              "  "
            ]
          },
          "metadata": {},
          "execution_count": 12
        }
      ],
      "source": [
        "olist.describe(include=['object'])"
      ]
    },
    {
      "cell_type": "code",
      "execution_count": null,
      "metadata": {
        "id": "b-VKacblwgik",
        "colab": {
          "base_uri": "https://localhost:8080/",
          "height": 292
        },
        "outputId": "645e41e4-910f-4a7d-f261-ea7300a50857"
      },
      "outputs": [
        {
          "output_type": "stream",
          "name": "stderr",
          "text": [
            "<ipython-input-13-bec6edc5c428>:1: FutureWarning: Treating datetime data as categorical rather than numeric in `.describe` is deprecated and will be removed in a future version of pandas. Specify `datetime_is_numeric=True` to silence this warning and adopt the future behavior now.\n",
            "  olist.describe(include=['datetime64[ns]'])\n"
          ]
        },
        {
          "output_type": "execute_result",
          "data": {
            "text/plain": [
              "       order_purchase_timestamp order_delivered_customer_date  \\\n",
              "count                    113406                        113406   \n",
              "unique                    94639                         94355   \n",
              "top         2017-08-08 20:26:31           2017-08-14 12:46:18   \n",
              "freq                         63                            63   \n",
              "first       2016-10-03 09:44:50           2016-10-11 13:46:32   \n",
              "last        2018-08-29 15:00:37           2018-10-17 13:22:46   \n",
              "\n",
              "       order_estimated_delivery_date  \n",
              "count                         113406  \n",
              "unique                           444  \n",
              "top              2017-12-20 00:00:00  \n",
              "freq                             637  \n",
              "first            2016-10-27 00:00:00  \n",
              "last             2018-10-25 00:00:00  "
            ],
            "text/html": [
              "\n",
              "  <div id=\"df-45e24689-9a3d-4f5b-9fd0-de774b6b2e09\">\n",
              "    <div class=\"colab-df-container\">\n",
              "      <div>\n",
              "<style scoped>\n",
              "    .dataframe tbody tr th:only-of-type {\n",
              "        vertical-align: middle;\n",
              "    }\n",
              "\n",
              "    .dataframe tbody tr th {\n",
              "        vertical-align: top;\n",
              "    }\n",
              "\n",
              "    .dataframe thead th {\n",
              "        text-align: right;\n",
              "    }\n",
              "</style>\n",
              "<table border=\"1\" class=\"dataframe\">\n",
              "  <thead>\n",
              "    <tr style=\"text-align: right;\">\n",
              "      <th></th>\n",
              "      <th>order_purchase_timestamp</th>\n",
              "      <th>order_delivered_customer_date</th>\n",
              "      <th>order_estimated_delivery_date</th>\n",
              "    </tr>\n",
              "  </thead>\n",
              "  <tbody>\n",
              "    <tr>\n",
              "      <th>count</th>\n",
              "      <td>113406</td>\n",
              "      <td>113406</td>\n",
              "      <td>113406</td>\n",
              "    </tr>\n",
              "    <tr>\n",
              "      <th>unique</th>\n",
              "      <td>94639</td>\n",
              "      <td>94355</td>\n",
              "      <td>444</td>\n",
              "    </tr>\n",
              "    <tr>\n",
              "      <th>top</th>\n",
              "      <td>2017-08-08 20:26:31</td>\n",
              "      <td>2017-08-14 12:46:18</td>\n",
              "      <td>2017-12-20 00:00:00</td>\n",
              "    </tr>\n",
              "    <tr>\n",
              "      <th>freq</th>\n",
              "      <td>63</td>\n",
              "      <td>63</td>\n",
              "      <td>637</td>\n",
              "    </tr>\n",
              "    <tr>\n",
              "      <th>first</th>\n",
              "      <td>2016-10-03 09:44:50</td>\n",
              "      <td>2016-10-11 13:46:32</td>\n",
              "      <td>2016-10-27 00:00:00</td>\n",
              "    </tr>\n",
              "    <tr>\n",
              "      <th>last</th>\n",
              "      <td>2018-08-29 15:00:37</td>\n",
              "      <td>2018-10-17 13:22:46</td>\n",
              "      <td>2018-10-25 00:00:00</td>\n",
              "    </tr>\n",
              "  </tbody>\n",
              "</table>\n",
              "</div>\n",
              "      <button class=\"colab-df-convert\" onclick=\"convertToInteractive('df-45e24689-9a3d-4f5b-9fd0-de774b6b2e09')\"\n",
              "              title=\"Convert this dataframe to an interactive table.\"\n",
              "              style=\"display:none;\">\n",
              "        \n",
              "  <svg xmlns=\"http://www.w3.org/2000/svg\" height=\"24px\"viewBox=\"0 0 24 24\"\n",
              "       width=\"24px\">\n",
              "    <path d=\"M0 0h24v24H0V0z\" fill=\"none\"/>\n",
              "    <path d=\"M18.56 5.44l.94 2.06.94-2.06 2.06-.94-2.06-.94-.94-2.06-.94 2.06-2.06.94zm-11 1L8.5 8.5l.94-2.06 2.06-.94-2.06-.94L8.5 2.5l-.94 2.06-2.06.94zm10 10l.94 2.06.94-2.06 2.06-.94-2.06-.94-.94-2.06-.94 2.06-2.06.94z\"/><path d=\"M17.41 7.96l-1.37-1.37c-.4-.4-.92-.59-1.43-.59-.52 0-1.04.2-1.43.59L10.3 9.45l-7.72 7.72c-.78.78-.78 2.05 0 2.83L4 21.41c.39.39.9.59 1.41.59.51 0 1.02-.2 1.41-.59l7.78-7.78 2.81-2.81c.8-.78.8-2.07 0-2.86zM5.41 20L4 18.59l7.72-7.72 1.47 1.35L5.41 20z\"/>\n",
              "  </svg>\n",
              "      </button>\n",
              "      \n",
              "  <style>\n",
              "    .colab-df-container {\n",
              "      display:flex;\n",
              "      flex-wrap:wrap;\n",
              "      gap: 12px;\n",
              "    }\n",
              "\n",
              "    .colab-df-convert {\n",
              "      background-color: #E8F0FE;\n",
              "      border: none;\n",
              "      border-radius: 50%;\n",
              "      cursor: pointer;\n",
              "      display: none;\n",
              "      fill: #1967D2;\n",
              "      height: 32px;\n",
              "      padding: 0 0 0 0;\n",
              "      width: 32px;\n",
              "    }\n",
              "\n",
              "    .colab-df-convert:hover {\n",
              "      background-color: #E2EBFA;\n",
              "      box-shadow: 0px 1px 2px rgba(60, 64, 67, 0.3), 0px 1px 3px 1px rgba(60, 64, 67, 0.15);\n",
              "      fill: #174EA6;\n",
              "    }\n",
              "\n",
              "    [theme=dark] .colab-df-convert {\n",
              "      background-color: #3B4455;\n",
              "      fill: #D2E3FC;\n",
              "    }\n",
              "\n",
              "    [theme=dark] .colab-df-convert:hover {\n",
              "      background-color: #434B5C;\n",
              "      box-shadow: 0px 1px 3px 1px rgba(0, 0, 0, 0.15);\n",
              "      filter: drop-shadow(0px 1px 2px rgba(0, 0, 0, 0.3));\n",
              "      fill: #FFFFFF;\n",
              "    }\n",
              "  </style>\n",
              "\n",
              "      <script>\n",
              "        const buttonEl =\n",
              "          document.querySelector('#df-45e24689-9a3d-4f5b-9fd0-de774b6b2e09 button.colab-df-convert');\n",
              "        buttonEl.style.display =\n",
              "          google.colab.kernel.accessAllowed ? 'block' : 'none';\n",
              "\n",
              "        async function convertToInteractive(key) {\n",
              "          const element = document.querySelector('#df-45e24689-9a3d-4f5b-9fd0-de774b6b2e09');\n",
              "          const dataTable =\n",
              "            await google.colab.kernel.invokeFunction('convertToInteractive',\n",
              "                                                     [key], {});\n",
              "          if (!dataTable) return;\n",
              "\n",
              "          const docLinkHtml = 'Like what you see? Visit the ' +\n",
              "            '<a target=\"_blank\" href=https://colab.research.google.com/notebooks/data_table.ipynb>data table notebook</a>'\n",
              "            + ' to learn more about interactive tables.';\n",
              "          element.innerHTML = '';\n",
              "          dataTable['output_type'] = 'display_data';\n",
              "          await google.colab.output.renderOutput(dataTable, element);\n",
              "          const docLink = document.createElement('div');\n",
              "          docLink.innerHTML = docLinkHtml;\n",
              "          element.appendChild(docLink);\n",
              "        }\n",
              "      </script>\n",
              "    </div>\n",
              "  </div>\n",
              "  "
            ]
          },
          "metadata": {},
          "execution_count": 13
        }
      ],
      "source": [
        "olist.describe(include=['datetime64[ns]'])"
      ]
    },
    {
      "cell_type": "code",
      "execution_count": null,
      "metadata": {
        "id": "d7IEa3G4EAoI",
        "colab": {
          "base_uri": "https://localhost:8080/"
        },
        "outputId": "7f21ad4b-312f-47d4-be4e-50c4f011d758"
      },
      "outputs": [
        {
          "output_type": "execute_result",
          "data": {
            "text/plain": [
              "customer_id                              object\n",
              "customer_city                            object\n",
              "order_id                                 object\n",
              "order_status                             object\n",
              "order_purchase_timestamp         datetime64[ns]\n",
              "order_delivered_customer_date    datetime64[ns]\n",
              "order_estimated_delivery_date    datetime64[ns]\n",
              "payment_value                           float64\n",
              "product_id                               object\n",
              "product_category_name                    object\n",
              "order_item_id                             int64\n",
              "price                                   float64\n",
              "seller_id                                object\n",
              "seller_city                              object\n",
              "order_processing_time                   float64\n",
              "delay_day                               float64\n",
              "delay_state                              object\n",
              "dtype: object"
            ]
          },
          "metadata": {},
          "execution_count": 14
        }
      ],
      "source": [
        "olist.dtypes"
      ]
    },
    {
      "cell_type": "code",
      "execution_count": null,
      "metadata": {
        "id": "kTdZRKSnOiAx",
        "colab": {
          "base_uri": "https://localhost:8080/"
        },
        "outputId": "f24f759b-62ff-4527-9d72-2cd87cfbdd2d"
      },
      "outputs": [
        {
          "output_type": "execute_result",
          "data": {
            "text/plain": [
              "customer_id                      95143\n",
              "customer_city                     4073\n",
              "order_id                         95143\n",
              "order_status                         2\n",
              "order_purchase_timestamp         94639\n",
              "order_delivered_customer_date    94355\n",
              "order_estimated_delivery_date      444\n",
              "payment_value                     7496\n",
              "product_id                       31630\n",
              "product_category_name               73\n",
              "order_item_id                       21\n",
              "price                             3205\n",
              "seller_id                         2914\n",
              "seller_city                        588\n",
              "order_processing_time              112\n",
              "delay_day                          155\n",
              "delay_state                          2\n",
              "dtype: int64"
            ]
          },
          "metadata": {},
          "execution_count": 15
        }
      ],
      "source": [
        "olist.nunique()"
      ]
    },
    {
      "cell_type": "code",
      "execution_count": null,
      "metadata": {
        "id": "iYlDGsIEYkWO",
        "colab": {
          "base_uri": "https://localhost:8080/"
        },
        "outputId": "5519ad35-129d-46e8-ce76-6bd6ff8d6e18"
      },
      "outputs": [
        {
          "output_type": "execute_result",
          "data": {
            "text/plain": [
              "customer_id                      0\n",
              "customer_city                    0\n",
              "order_id                         0\n",
              "order_status                     0\n",
              "order_purchase_timestamp         0\n",
              "order_delivered_customer_date    0\n",
              "order_estimated_delivery_date    0\n",
              "payment_value                    0\n",
              "product_id                       0\n",
              "product_category_name            0\n",
              "order_item_id                    0\n",
              "price                            0\n",
              "seller_id                        0\n",
              "seller_city                      0\n",
              "order_processing_time            0\n",
              "delay_day                        0\n",
              "delay_state                      0\n",
              "dtype: int64"
            ]
          },
          "metadata": {},
          "execution_count": 16
        }
      ],
      "source": [
        "olist.isna().sum()"
      ]
    },
    {
      "cell_type": "markdown",
      "metadata": {
        "id": "I_QXDpQwn1BS"
      },
      "source": [
        "## LabelEncoder"
      ]
    },
    {
      "cell_type": "code",
      "execution_count": null,
      "metadata": {
        "id": "wDp2fv0iMnO3"
      },
      "outputs": [],
      "source": [
        "from sklearn.preprocessing import OneHotEncoder\n",
        "from sklearn.preprocessing import OrdinalEncoder\n",
        "from sklearn.preprocessing import LabelEncoder\n",
        "\n",
        "one_hot_encod = OneHotEncoder()\n",
        "ordinal_encod = OrdinalEncoder()\n",
        "label_encod = LabelEncoder()"
      ]
    },
    {
      "cell_type": "code",
      "execution_count": null,
      "metadata": {
        "id": "lQIReT4Lb1eO",
        "colab": {
          "base_uri": "https://localhost:8080/",
          "height": 522
        },
        "outputId": "3505754e-7107-46c8-87a0-1a2cb307b3d2"
      },
      "outputs": [
        {
          "output_type": "execute_result",
          "data": {
            "text/plain": [
              "                             customer_id          customer_city  \\\n",
              "0       3ce436f183e68e07877b285a838db11a  campos dos goytacazes   \n",
              "1       f6dd3ec061db4e3987629fe6b26e5cce        santa fe do sul   \n",
              "2       6489ae5e4333f3693df5ad4372dab6d3          para de minas   \n",
              "3       d4eb9395c8c0431ee92fce09860c5a06                atibaia   \n",
              "4       58dbd0b2d70206bf40e62cd34e84d795        varzea paulista   \n",
              "...                                  ...                    ...   \n",
              "117596  b51593916b4b8e0d6f66f2ae24f2673d               sao luis   \n",
              "117597  84c5d4fbaf120aae381fad077416eaa0               curitiba   \n",
              "117598  29309aa813182aaddc9b259e31b870e6              sao paulo   \n",
              "117599  b5e6afd5a41800fdf401e0272ca74655                vinhedo   \n",
              "117600  96d649da0cc4ff33bb408b199d4c7dcf               botucatu   \n",
              "\n",
              "                                order_id order_status  \\\n",
              "0       00010242fe8c5a6d1ba2dd792cb16214    delivered   \n",
              "1       00018f77f2f0320c557190d7a144bdd3    delivered   \n",
              "2       000229ec398224ef6ca0657da4fc703e    delivered   \n",
              "3       00024acbcdf0a6daa1e931b038114c75    delivered   \n",
              "4       00042b26cf59d7ce69dfabb4e55b4fd9    delivered   \n",
              "...                                  ...          ...   \n",
              "117596  fffc94f6ce00a00581880bf54a75a037    delivered   \n",
              "117597  fffcd46ef2263f404302a634eb57f7eb    delivered   \n",
              "117598  fffce4705a9662cd70adb13d4a31832d    delivered   \n",
              "117599  fffe18544ffabc95dfada21779c9644f    delivered   \n",
              "117600  fffe41c64501cc87c801fd61db3f6244    delivered   \n",
              "\n",
              "                              product_id   product_category_name  \\\n",
              "0       4244733e06e7ecb4970a6e2683c13e61              cool_stuff   \n",
              "1       e5f2d52b802189ee658865ca93d83a8f                pet_shop   \n",
              "2       c777355d18b72b67abbeef9df44fd0fd        moveis_decoracao   \n",
              "3       7634da152a4610f1595efa32f14722fc              perfumaria   \n",
              "4       ac6c3623068f30de03045865e4e10089      ferramentas_jardim   \n",
              "...                                  ...                     ...   \n",
              "117596  4aa6014eceb682077f9dc4bffebc05b0   utilidades_domesticas   \n",
              "117597  32e07fd915822b0765e448c4dd74c828  informatica_acessorios   \n",
              "117598  72a30483855e2eafc67aee5dc2560482           esporte_lazer   \n",
              "117599  9c422a519119dcad7575db5af1ba540e  informatica_acessorios   \n",
              "117600  350688d9dc1e75ff97be326363655e01         cama_mesa_banho   \n",
              "\n",
              "                               seller_id    seller_city delay_state  \n",
              "0       48436dade18ac8b2bce089ec2a041202  volta redonda     On Time  \n",
              "1       dd7ddc04e1b6c2c614352b383efe2d36      sao paulo     On Time  \n",
              "2       5b51032eddd242adc84c38acab88f23d  borda da mata     On Time  \n",
              "3       9d7a1d34a5052409006425275ba1c2b4         franca     On Time  \n",
              "4       df560393f3a51e74553ab94004ba5c87         loanda     On Time  \n",
              "...                                  ...            ...         ...  \n",
              "117596  b8bc237ba3788b23da09c0f1f3a3288c         itajai     On Time  \n",
              "117597  f3c38ab652836d21de61fb8314b69182      sao paulo     On Time  \n",
              "117598  c3cfdc648177fdbbbb35635a37472c53       curitiba     On Time  \n",
              "117599  2b3e4a2a3ea8e01938cabda2a3e5cc79      sao paulo     On Time  \n",
              "117600  f7ccf836d21b2fb1de37564105216cc1       ibitinga     On Time  \n",
              "\n",
              "[113406 rows x 9 columns]"
            ],
            "text/html": [
              "\n",
              "  <div id=\"df-ba2d05b5-bc91-461d-99e8-699cae1a51b8\">\n",
              "    <div class=\"colab-df-container\">\n",
              "      <div>\n",
              "<style scoped>\n",
              "    .dataframe tbody tr th:only-of-type {\n",
              "        vertical-align: middle;\n",
              "    }\n",
              "\n",
              "    .dataframe tbody tr th {\n",
              "        vertical-align: top;\n",
              "    }\n",
              "\n",
              "    .dataframe thead th {\n",
              "        text-align: right;\n",
              "    }\n",
              "</style>\n",
              "<table border=\"1\" class=\"dataframe\">\n",
              "  <thead>\n",
              "    <tr style=\"text-align: right;\">\n",
              "      <th></th>\n",
              "      <th>customer_id</th>\n",
              "      <th>customer_city</th>\n",
              "      <th>order_id</th>\n",
              "      <th>order_status</th>\n",
              "      <th>product_id</th>\n",
              "      <th>product_category_name</th>\n",
              "      <th>seller_id</th>\n",
              "      <th>seller_city</th>\n",
              "      <th>delay_state</th>\n",
              "    </tr>\n",
              "  </thead>\n",
              "  <tbody>\n",
              "    <tr>\n",
              "      <th>0</th>\n",
              "      <td>3ce436f183e68e07877b285a838db11a</td>\n",
              "      <td>campos dos goytacazes</td>\n",
              "      <td>00010242fe8c5a6d1ba2dd792cb16214</td>\n",
              "      <td>delivered</td>\n",
              "      <td>4244733e06e7ecb4970a6e2683c13e61</td>\n",
              "      <td>cool_stuff</td>\n",
              "      <td>48436dade18ac8b2bce089ec2a041202</td>\n",
              "      <td>volta redonda</td>\n",
              "      <td>On Time</td>\n",
              "    </tr>\n",
              "    <tr>\n",
              "      <th>1</th>\n",
              "      <td>f6dd3ec061db4e3987629fe6b26e5cce</td>\n",
              "      <td>santa fe do sul</td>\n",
              "      <td>00018f77f2f0320c557190d7a144bdd3</td>\n",
              "      <td>delivered</td>\n",
              "      <td>e5f2d52b802189ee658865ca93d83a8f</td>\n",
              "      <td>pet_shop</td>\n",
              "      <td>dd7ddc04e1b6c2c614352b383efe2d36</td>\n",
              "      <td>sao paulo</td>\n",
              "      <td>On Time</td>\n",
              "    </tr>\n",
              "    <tr>\n",
              "      <th>2</th>\n",
              "      <td>6489ae5e4333f3693df5ad4372dab6d3</td>\n",
              "      <td>para de minas</td>\n",
              "      <td>000229ec398224ef6ca0657da4fc703e</td>\n",
              "      <td>delivered</td>\n",
              "      <td>c777355d18b72b67abbeef9df44fd0fd</td>\n",
              "      <td>moveis_decoracao</td>\n",
              "      <td>5b51032eddd242adc84c38acab88f23d</td>\n",
              "      <td>borda da mata</td>\n",
              "      <td>On Time</td>\n",
              "    </tr>\n",
              "    <tr>\n",
              "      <th>3</th>\n",
              "      <td>d4eb9395c8c0431ee92fce09860c5a06</td>\n",
              "      <td>atibaia</td>\n",
              "      <td>00024acbcdf0a6daa1e931b038114c75</td>\n",
              "      <td>delivered</td>\n",
              "      <td>7634da152a4610f1595efa32f14722fc</td>\n",
              "      <td>perfumaria</td>\n",
              "      <td>9d7a1d34a5052409006425275ba1c2b4</td>\n",
              "      <td>franca</td>\n",
              "      <td>On Time</td>\n",
              "    </tr>\n",
              "    <tr>\n",
              "      <th>4</th>\n",
              "      <td>58dbd0b2d70206bf40e62cd34e84d795</td>\n",
              "      <td>varzea paulista</td>\n",
              "      <td>00042b26cf59d7ce69dfabb4e55b4fd9</td>\n",
              "      <td>delivered</td>\n",
              "      <td>ac6c3623068f30de03045865e4e10089</td>\n",
              "      <td>ferramentas_jardim</td>\n",
              "      <td>df560393f3a51e74553ab94004ba5c87</td>\n",
              "      <td>loanda</td>\n",
              "      <td>On Time</td>\n",
              "    </tr>\n",
              "    <tr>\n",
              "      <th>...</th>\n",
              "      <td>...</td>\n",
              "      <td>...</td>\n",
              "      <td>...</td>\n",
              "      <td>...</td>\n",
              "      <td>...</td>\n",
              "      <td>...</td>\n",
              "      <td>...</td>\n",
              "      <td>...</td>\n",
              "      <td>...</td>\n",
              "    </tr>\n",
              "    <tr>\n",
              "      <th>117596</th>\n",
              "      <td>b51593916b4b8e0d6f66f2ae24f2673d</td>\n",
              "      <td>sao luis</td>\n",
              "      <td>fffc94f6ce00a00581880bf54a75a037</td>\n",
              "      <td>delivered</td>\n",
              "      <td>4aa6014eceb682077f9dc4bffebc05b0</td>\n",
              "      <td>utilidades_domesticas</td>\n",
              "      <td>b8bc237ba3788b23da09c0f1f3a3288c</td>\n",
              "      <td>itajai</td>\n",
              "      <td>On Time</td>\n",
              "    </tr>\n",
              "    <tr>\n",
              "      <th>117597</th>\n",
              "      <td>84c5d4fbaf120aae381fad077416eaa0</td>\n",
              "      <td>curitiba</td>\n",
              "      <td>fffcd46ef2263f404302a634eb57f7eb</td>\n",
              "      <td>delivered</td>\n",
              "      <td>32e07fd915822b0765e448c4dd74c828</td>\n",
              "      <td>informatica_acessorios</td>\n",
              "      <td>f3c38ab652836d21de61fb8314b69182</td>\n",
              "      <td>sao paulo</td>\n",
              "      <td>On Time</td>\n",
              "    </tr>\n",
              "    <tr>\n",
              "      <th>117598</th>\n",
              "      <td>29309aa813182aaddc9b259e31b870e6</td>\n",
              "      <td>sao paulo</td>\n",
              "      <td>fffce4705a9662cd70adb13d4a31832d</td>\n",
              "      <td>delivered</td>\n",
              "      <td>72a30483855e2eafc67aee5dc2560482</td>\n",
              "      <td>esporte_lazer</td>\n",
              "      <td>c3cfdc648177fdbbbb35635a37472c53</td>\n",
              "      <td>curitiba</td>\n",
              "      <td>On Time</td>\n",
              "    </tr>\n",
              "    <tr>\n",
              "      <th>117599</th>\n",
              "      <td>b5e6afd5a41800fdf401e0272ca74655</td>\n",
              "      <td>vinhedo</td>\n",
              "      <td>fffe18544ffabc95dfada21779c9644f</td>\n",
              "      <td>delivered</td>\n",
              "      <td>9c422a519119dcad7575db5af1ba540e</td>\n",
              "      <td>informatica_acessorios</td>\n",
              "      <td>2b3e4a2a3ea8e01938cabda2a3e5cc79</td>\n",
              "      <td>sao paulo</td>\n",
              "      <td>On Time</td>\n",
              "    </tr>\n",
              "    <tr>\n",
              "      <th>117600</th>\n",
              "      <td>96d649da0cc4ff33bb408b199d4c7dcf</td>\n",
              "      <td>botucatu</td>\n",
              "      <td>fffe41c64501cc87c801fd61db3f6244</td>\n",
              "      <td>delivered</td>\n",
              "      <td>350688d9dc1e75ff97be326363655e01</td>\n",
              "      <td>cama_mesa_banho</td>\n",
              "      <td>f7ccf836d21b2fb1de37564105216cc1</td>\n",
              "      <td>ibitinga</td>\n",
              "      <td>On Time</td>\n",
              "    </tr>\n",
              "  </tbody>\n",
              "</table>\n",
              "<p>113406 rows × 9 columns</p>\n",
              "</div>\n",
              "      <button class=\"colab-df-convert\" onclick=\"convertToInteractive('df-ba2d05b5-bc91-461d-99e8-699cae1a51b8')\"\n",
              "              title=\"Convert this dataframe to an interactive table.\"\n",
              "              style=\"display:none;\">\n",
              "        \n",
              "  <svg xmlns=\"http://www.w3.org/2000/svg\" height=\"24px\"viewBox=\"0 0 24 24\"\n",
              "       width=\"24px\">\n",
              "    <path d=\"M0 0h24v24H0V0z\" fill=\"none\"/>\n",
              "    <path d=\"M18.56 5.44l.94 2.06.94-2.06 2.06-.94-2.06-.94-.94-2.06-.94 2.06-2.06.94zm-11 1L8.5 8.5l.94-2.06 2.06-.94-2.06-.94L8.5 2.5l-.94 2.06-2.06.94zm10 10l.94 2.06.94-2.06 2.06-.94-2.06-.94-.94-2.06-.94 2.06-2.06.94z\"/><path d=\"M17.41 7.96l-1.37-1.37c-.4-.4-.92-.59-1.43-.59-.52 0-1.04.2-1.43.59L10.3 9.45l-7.72 7.72c-.78.78-.78 2.05 0 2.83L4 21.41c.39.39.9.59 1.41.59.51 0 1.02-.2 1.41-.59l7.78-7.78 2.81-2.81c.8-.78.8-2.07 0-2.86zM5.41 20L4 18.59l7.72-7.72 1.47 1.35L5.41 20z\"/>\n",
              "  </svg>\n",
              "      </button>\n",
              "      \n",
              "  <style>\n",
              "    .colab-df-container {\n",
              "      display:flex;\n",
              "      flex-wrap:wrap;\n",
              "      gap: 12px;\n",
              "    }\n",
              "\n",
              "    .colab-df-convert {\n",
              "      background-color: #E8F0FE;\n",
              "      border: none;\n",
              "      border-radius: 50%;\n",
              "      cursor: pointer;\n",
              "      display: none;\n",
              "      fill: #1967D2;\n",
              "      height: 32px;\n",
              "      padding: 0 0 0 0;\n",
              "      width: 32px;\n",
              "    }\n",
              "\n",
              "    .colab-df-convert:hover {\n",
              "      background-color: #E2EBFA;\n",
              "      box-shadow: 0px 1px 2px rgba(60, 64, 67, 0.3), 0px 1px 3px 1px rgba(60, 64, 67, 0.15);\n",
              "      fill: #174EA6;\n",
              "    }\n",
              "\n",
              "    [theme=dark] .colab-df-convert {\n",
              "      background-color: #3B4455;\n",
              "      fill: #D2E3FC;\n",
              "    }\n",
              "\n",
              "    [theme=dark] .colab-df-convert:hover {\n",
              "      background-color: #434B5C;\n",
              "      box-shadow: 0px 1px 3px 1px rgba(0, 0, 0, 0.15);\n",
              "      filter: drop-shadow(0px 1px 2px rgba(0, 0, 0, 0.3));\n",
              "      fill: #FFFFFF;\n",
              "    }\n",
              "  </style>\n",
              "\n",
              "      <script>\n",
              "        const buttonEl =\n",
              "          document.querySelector('#df-ba2d05b5-bc91-461d-99e8-699cae1a51b8 button.colab-df-convert');\n",
              "        buttonEl.style.display =\n",
              "          google.colab.kernel.accessAllowed ? 'block' : 'none';\n",
              "\n",
              "        async function convertToInteractive(key) {\n",
              "          const element = document.querySelector('#df-ba2d05b5-bc91-461d-99e8-699cae1a51b8');\n",
              "          const dataTable =\n",
              "            await google.colab.kernel.invokeFunction('convertToInteractive',\n",
              "                                                     [key], {});\n",
              "          if (!dataTable) return;\n",
              "\n",
              "          const docLinkHtml = 'Like what you see? Visit the ' +\n",
              "            '<a target=\"_blank\" href=https://colab.research.google.com/notebooks/data_table.ipynb>data table notebook</a>'\n",
              "            + ' to learn more about interactive tables.';\n",
              "          element.innerHTML = '';\n",
              "          dataTable['output_type'] = 'display_data';\n",
              "          await google.colab.output.renderOutput(dataTable, element);\n",
              "          const docLink = document.createElement('div');\n",
              "          docLink.innerHTML = docLinkHtml;\n",
              "          element.appendChild(docLink);\n",
              "        }\n",
              "      </script>\n",
              "    </div>\n",
              "  </div>\n",
              "  "
            ]
          },
          "metadata": {},
          "execution_count": 18
        }
      ],
      "source": [
        "olist.select_dtypes(include='object')"
      ]
    },
    {
      "cell_type": "code",
      "execution_count": null,
      "metadata": {
        "id": "2F8GGpPGNHZR"
      },
      "outputs": [],
      "source": [
        "categoric_data = ['customer_id' ,'customer_city', 'order_id', 'order_status', 'product_id', 'product_category_name', 'seller_id', 'seller_city', 'delay_state']\n",
        "numeric_data = ['payment_value', 'order_item_id', 'price']"
      ]
    },
    {
      "cell_type": "code",
      "execution_count": null,
      "metadata": {
        "id": "T9bMEij7V8-c",
        "colab": {
          "base_uri": "https://localhost:8080/"
        },
        "outputId": "d89f1776-b1b8-4a4b-c69b-5c2eea8118c7"
      },
      "outputs": [
        {
          "output_type": "execute_result",
          "data": {
            "text/plain": [
              "3"
            ]
          },
          "metadata": {},
          "execution_count": 20
        }
      ],
      "source": [
        "len(numeric_data)"
      ]
    },
    {
      "cell_type": "code",
      "execution_count": null,
      "metadata": {
        "id": "62eAtQ5dPkZo"
      },
      "outputs": [],
      "source": [
        "# categoric_data = ordinal_encod.fit_transform(categoric_data)\n",
        "# categoric_data"
      ]
    },
    {
      "cell_type": "code",
      "execution_count": null,
      "metadata": {
        "id": "IfDsLXhxQdop"
      },
      "outputs": [],
      "source": [
        "# categoric_data = pd.DataFrame(categoric_data, columns=['customer_city', 'product_id', 'product_category_name', 'seller_id', 'seller_city'])\n",
        "# categoric_data.head(1)"
      ]
    },
    {
      "cell_type": "code",
      "execution_count": null,
      "metadata": {
        "id": "zbe1KH4IWBlc",
        "colab": {
          "base_uri": "https://localhost:8080/"
        },
        "outputId": "eb7c335c-272a-4673-c1c1-56bfd5c37b90"
      },
      "outputs": [
        {
          "output_type": "execute_result",
          "data": {
            "text/plain": [
              "9"
            ]
          },
          "metadata": {},
          "execution_count": 23
        }
      ],
      "source": [
        "len(categoric_data)"
      ]
    },
    {
      "cell_type": "code",
      "execution_count": null,
      "metadata": {
        "id": "1X7Cui93ZEe1",
        "colab": {
          "base_uri": "https://localhost:8080/"
        },
        "outputId": "e77c2f64-c006-486d-9273-2dbd246f3cda"
      },
      "outputs": [
        {
          "output_type": "execute_result",
          "data": {
            "text/plain": [
              "customer_id                               int64\n",
              "customer_city                             int64\n",
              "order_id                                  int64\n",
              "order_status                              int64\n",
              "order_purchase_timestamp         datetime64[ns]\n",
              "order_delivered_customer_date    datetime64[ns]\n",
              "order_estimated_delivery_date    datetime64[ns]\n",
              "payment_value                           float64\n",
              "product_id                                int64\n",
              "product_category_name                     int64\n",
              "order_item_id                             int64\n",
              "price                                   float64\n",
              "seller_id                                 int64\n",
              "seller_city                               int64\n",
              "order_processing_time                   float64\n",
              "delay_day                               float64\n",
              "delay_state                               int64\n",
              "dtype: object"
            ]
          },
          "metadata": {},
          "execution_count": 24
        }
      ],
      "source": [
        "for i in categoric_data:\n",
        "    olist[i] = label_encod.fit_transform(olist[i])\n",
        "\n",
        "olist.dtypes"
      ]
    },
    {
      "cell_type": "code",
      "execution_count": null,
      "metadata": {
        "id": "mWRa0qfAcgmJ",
        "colab": {
          "base_uri": "https://localhost:8080/",
          "height": 145
        },
        "outputId": "e0243a69-dd71-4fcc-be57-74c836085747"
      },
      "outputs": [
        {
          "output_type": "execute_result",
          "data": {
            "text/plain": [
              "   customer_id  customer_city  order_id  order_status  \\\n",
              "0        22715            731         0             1   \n",
              "\n",
              "  order_purchase_timestamp order_delivered_customer_date  \\\n",
              "0      2017-09-13 08:59:02           2017-09-20 23:43:48   \n",
              "\n",
              "  order_estimated_delivery_date  payment_value  product_id  \\\n",
              "0                    2017-09-29           72.2        8293   \n",
              "\n",
              "   product_category_name  order_item_id  price  seller_id  seller_city  \\\n",
              "0                     26              1   58.9        818          583   \n",
              "\n",
              "   order_processing_time  delay_day  delay_state  \n",
              "0                    6.0        7.0            1  "
            ],
            "text/html": [
              "\n",
              "  <div id=\"df-25e44668-0336-46c3-b6d0-96dbf9e75ba8\">\n",
              "    <div class=\"colab-df-container\">\n",
              "      <div>\n",
              "<style scoped>\n",
              "    .dataframe tbody tr th:only-of-type {\n",
              "        vertical-align: middle;\n",
              "    }\n",
              "\n",
              "    .dataframe tbody tr th {\n",
              "        vertical-align: top;\n",
              "    }\n",
              "\n",
              "    .dataframe thead th {\n",
              "        text-align: right;\n",
              "    }\n",
              "</style>\n",
              "<table border=\"1\" class=\"dataframe\">\n",
              "  <thead>\n",
              "    <tr style=\"text-align: right;\">\n",
              "      <th></th>\n",
              "      <th>customer_id</th>\n",
              "      <th>customer_city</th>\n",
              "      <th>order_id</th>\n",
              "      <th>order_status</th>\n",
              "      <th>order_purchase_timestamp</th>\n",
              "      <th>order_delivered_customer_date</th>\n",
              "      <th>order_estimated_delivery_date</th>\n",
              "      <th>payment_value</th>\n",
              "      <th>product_id</th>\n",
              "      <th>product_category_name</th>\n",
              "      <th>order_item_id</th>\n",
              "      <th>price</th>\n",
              "      <th>seller_id</th>\n",
              "      <th>seller_city</th>\n",
              "      <th>order_processing_time</th>\n",
              "      <th>delay_day</th>\n",
              "      <th>delay_state</th>\n",
              "    </tr>\n",
              "  </thead>\n",
              "  <tbody>\n",
              "    <tr>\n",
              "      <th>0</th>\n",
              "      <td>22715</td>\n",
              "      <td>731</td>\n",
              "      <td>0</td>\n",
              "      <td>1</td>\n",
              "      <td>2017-09-13 08:59:02</td>\n",
              "      <td>2017-09-20 23:43:48</td>\n",
              "      <td>2017-09-29</td>\n",
              "      <td>72.2</td>\n",
              "      <td>8293</td>\n",
              "      <td>26</td>\n",
              "      <td>1</td>\n",
              "      <td>58.9</td>\n",
              "      <td>818</td>\n",
              "      <td>583</td>\n",
              "      <td>6.0</td>\n",
              "      <td>7.0</td>\n",
              "      <td>1</td>\n",
              "    </tr>\n",
              "  </tbody>\n",
              "</table>\n",
              "</div>\n",
              "      <button class=\"colab-df-convert\" onclick=\"convertToInteractive('df-25e44668-0336-46c3-b6d0-96dbf9e75ba8')\"\n",
              "              title=\"Convert this dataframe to an interactive table.\"\n",
              "              style=\"display:none;\">\n",
              "        \n",
              "  <svg xmlns=\"http://www.w3.org/2000/svg\" height=\"24px\"viewBox=\"0 0 24 24\"\n",
              "       width=\"24px\">\n",
              "    <path d=\"M0 0h24v24H0V0z\" fill=\"none\"/>\n",
              "    <path d=\"M18.56 5.44l.94 2.06.94-2.06 2.06-.94-2.06-.94-.94-2.06-.94 2.06-2.06.94zm-11 1L8.5 8.5l.94-2.06 2.06-.94-2.06-.94L8.5 2.5l-.94 2.06-2.06.94zm10 10l.94 2.06.94-2.06 2.06-.94-2.06-.94-.94-2.06-.94 2.06-2.06.94z\"/><path d=\"M17.41 7.96l-1.37-1.37c-.4-.4-.92-.59-1.43-.59-.52 0-1.04.2-1.43.59L10.3 9.45l-7.72 7.72c-.78.78-.78 2.05 0 2.83L4 21.41c.39.39.9.59 1.41.59.51 0 1.02-.2 1.41-.59l7.78-7.78 2.81-2.81c.8-.78.8-2.07 0-2.86zM5.41 20L4 18.59l7.72-7.72 1.47 1.35L5.41 20z\"/>\n",
              "  </svg>\n",
              "      </button>\n",
              "      \n",
              "  <style>\n",
              "    .colab-df-container {\n",
              "      display:flex;\n",
              "      flex-wrap:wrap;\n",
              "      gap: 12px;\n",
              "    }\n",
              "\n",
              "    .colab-df-convert {\n",
              "      background-color: #E8F0FE;\n",
              "      border: none;\n",
              "      border-radius: 50%;\n",
              "      cursor: pointer;\n",
              "      display: none;\n",
              "      fill: #1967D2;\n",
              "      height: 32px;\n",
              "      padding: 0 0 0 0;\n",
              "      width: 32px;\n",
              "    }\n",
              "\n",
              "    .colab-df-convert:hover {\n",
              "      background-color: #E2EBFA;\n",
              "      box-shadow: 0px 1px 2px rgba(60, 64, 67, 0.3), 0px 1px 3px 1px rgba(60, 64, 67, 0.15);\n",
              "      fill: #174EA6;\n",
              "    }\n",
              "\n",
              "    [theme=dark] .colab-df-convert {\n",
              "      background-color: #3B4455;\n",
              "      fill: #D2E3FC;\n",
              "    }\n",
              "\n",
              "    [theme=dark] .colab-df-convert:hover {\n",
              "      background-color: #434B5C;\n",
              "      box-shadow: 0px 1px 3px 1px rgba(0, 0, 0, 0.15);\n",
              "      filter: drop-shadow(0px 1px 2px rgba(0, 0, 0, 0.3));\n",
              "      fill: #FFFFFF;\n",
              "    }\n",
              "  </style>\n",
              "\n",
              "      <script>\n",
              "        const buttonEl =\n",
              "          document.querySelector('#df-25e44668-0336-46c3-b6d0-96dbf9e75ba8 button.colab-df-convert');\n",
              "        buttonEl.style.display =\n",
              "          google.colab.kernel.accessAllowed ? 'block' : 'none';\n",
              "\n",
              "        async function convertToInteractive(key) {\n",
              "          const element = document.querySelector('#df-25e44668-0336-46c3-b6d0-96dbf9e75ba8');\n",
              "          const dataTable =\n",
              "            await google.colab.kernel.invokeFunction('convertToInteractive',\n",
              "                                                     [key], {});\n",
              "          if (!dataTable) return;\n",
              "\n",
              "          const docLinkHtml = 'Like what you see? Visit the ' +\n",
              "            '<a target=\"_blank\" href=https://colab.research.google.com/notebooks/data_table.ipynb>data table notebook</a>'\n",
              "            + ' to learn more about interactive tables.';\n",
              "          element.innerHTML = '';\n",
              "          dataTable['output_type'] = 'display_data';\n",
              "          await google.colab.output.renderOutput(dataTable, element);\n",
              "          const docLink = document.createElement('div');\n",
              "          docLink.innerHTML = docLinkHtml;\n",
              "          element.appendChild(docLink);\n",
              "        }\n",
              "      </script>\n",
              "    </div>\n",
              "  </div>\n",
              "  "
            ]
          },
          "metadata": {},
          "execution_count": 25
        }
      ],
      "source": [
        "olist.head(1)"
      ]
    },
    {
      "cell_type": "markdown",
      "source": [
        "## Capping & Inter-Quartile Range (IQR)"
      ],
      "metadata": {
        "id": "tGM4lcX_aAHO"
      }
    },
    {
      "cell_type": "markdown",
      "source": [
        "### price"
      ],
      "metadata": {
        "id": "41uYV-K4eBny"
      }
    },
    {
      "cell_type": "code",
      "source": [
        "# import seaborn as sns\n",
        "# import matplotlib.pyplot as plt\n",
        "\n",
        "# plt.figure(figsize=(15,7))\n",
        "# plt.subplot(1,2,1)\n",
        "# plt.title(\"Almost Normal Distribution\", fontsize=15)\n",
        "# sns.kdeplot(data = olist[\"price\"])\n",
        "# plt.subplot(1,2,2)\n",
        "# plt.title(\"Skewed Distribution\", fontsize=15)\n",
        "# sns.boxplot(data = olist[\"price\"], palette=\"Dark2\")\n",
        "# plt.show()"
      ],
      "metadata": {
        "id": "S76EU7UFYngB"
      },
      "execution_count": null,
      "outputs": []
    },
    {
      "cell_type": "code",
      "source": [
        "# import numpy as np"
      ],
      "metadata": {
        "id": "hcQsqTVUbyH0"
      },
      "execution_count": null,
      "outputs": []
    },
    {
      "cell_type": "code",
      "source": [
        "# #finding the Q1(25 percentile) and Q3(75 percentile)\n",
        "# q1 = olist[\"price\"].quantile(0.25)\n",
        "# q2 = olist[\"price\"].quantile(0.75)"
      ],
      "metadata": {
        "id": "0jaioKYWbiuA"
      },
      "execution_count": null,
      "outputs": []
    },
    {
      "cell_type": "code",
      "source": [
        "# #finding out the value of Inter Quartile Range\n",
        "# IQR = q2 - q1"
      ],
      "metadata": {
        "id": "YpYBszTAbnpN"
      },
      "execution_count": null,
      "outputs": []
    },
    {
      "cell_type": "code",
      "source": [
        "# #defining max and min limits\n",
        "# max_limit = q2 + (1.5 * IQR)\n",
        "# min_limit = q1 - (1.5 * IQR)"
      ],
      "metadata": {
        "id": "XJVsRYhTboH5"
      },
      "execution_count": null,
      "outputs": []
    },
    {
      "cell_type": "code",
      "source": [
        "# #capping\n",
        "# nooutlier_olist = pd.DataFrame(np.where(olist[\"price\"] > max_limit, max_limit,\n",
        "#          (np.where(olist[\"price\"] < min_limit, min_limit, olist[\"price\"]))), columns=[\"price\"])"
      ],
      "metadata": {
        "id": "1fCpUXZabpWA"
      },
      "execution_count": null,
      "outputs": []
    },
    {
      "cell_type": "code",
      "source": [
        "# olist['price'] = nooutlier_olist[\"price\"]"
      ],
      "metadata": {
        "id": "0-rf0cAtaBgM"
      },
      "execution_count": null,
      "outputs": []
    },
    {
      "cell_type": "code",
      "source": [
        "# olist.head()"
      ],
      "metadata": {
        "id": "uHlWxts0dc0X"
      },
      "execution_count": null,
      "outputs": []
    },
    {
      "cell_type": "code",
      "source": [
        "# import seaborn as sns\n",
        "# import matplotlib.pyplot as plt\n",
        "\n",
        "# plt.figure(figsize=(15,7))\n",
        "# plt.subplot(1,2,1)\n",
        "# plt.title(\"Almost Normal Distribution\", fontsize=15)\n",
        "# sns.kdeplot(data = olist[\"price\"])\n",
        "# plt.subplot(1,2,2)\n",
        "# plt.title(\"Skewed Distribution\", fontsize=15)\n",
        "# sns.boxplot(data = olist[\"price\"], palette=\"Dark2\")\n",
        "# plt.show()"
      ],
      "metadata": {
        "id": "4vwK8zdYdnCR"
      },
      "execution_count": null,
      "outputs": []
    },
    {
      "cell_type": "markdown",
      "source": [
        "### payment_value"
      ],
      "metadata": {
        "id": "eSzrChd2eE9h"
      }
    },
    {
      "cell_type": "code",
      "source": [
        "# import seaborn as sns\n",
        "# import matplotlib.pyplot as plt\n",
        "\n",
        "# plt.figure(figsize=(15,7))\n",
        "# plt.subplot(1,2,1)\n",
        "# plt.title(\"Almost Normal Distribution\", fontsize=15)\n",
        "# sns.kdeplot(data = olist[\"payment_value\"])\n",
        "# plt.subplot(1,2,2)\n",
        "# plt.title(\"Skewed Distribution\", fontsize=15)\n",
        "# sns.boxplot(data = olist[\"payment_value\"], palette=\"Dark2\")\n",
        "# plt.show()"
      ],
      "metadata": {
        "id": "uaMBHTgGdydl"
      },
      "execution_count": null,
      "outputs": []
    },
    {
      "cell_type": "code",
      "source": [
        "# import numpy as np"
      ],
      "metadata": {
        "id": "DbyUL_zrebHZ"
      },
      "execution_count": null,
      "outputs": []
    },
    {
      "cell_type": "code",
      "source": [
        "# #finding the Q1(25 percentile) and Q3(75 percentile)\n",
        "# q1 = olist[\"payment_value\"].quantile(0.25)\n",
        "# q2 = olist[\"payment_value\"].quantile(0.75)"
      ],
      "metadata": {
        "id": "zGqV752WebHZ"
      },
      "execution_count": null,
      "outputs": []
    },
    {
      "cell_type": "code",
      "source": [
        "# #finding out the value of Inter Quartile Range\n",
        "# IQR = q2 - q1"
      ],
      "metadata": {
        "id": "FJ-gYI5yebHZ"
      },
      "execution_count": null,
      "outputs": []
    },
    {
      "cell_type": "code",
      "source": [
        "# #defining max and min limits\n",
        "# max_limit = q2 + (1.5 * IQR)\n",
        "# min_limit = q1 - (1.5 * IQR)"
      ],
      "metadata": {
        "id": "GNguCarMebHa"
      },
      "execution_count": null,
      "outputs": []
    },
    {
      "cell_type": "code",
      "source": [
        "# #capping\n",
        "# nooutlier_olist = pd.DataFrame(np.where(olist[\"payment_value\"] > max_limit, max_limit,\n",
        "#          (np.where(olist[\"payment_value\"] < min_limit, min_limit, olist[\"payment_value\"]))), columns=[\"payment_value\"])"
      ],
      "metadata": {
        "id": "qbIHywIaebHa"
      },
      "execution_count": null,
      "outputs": []
    },
    {
      "cell_type": "code",
      "source": [
        "# olist['payment_value'] = nooutlier_olist[\"payment_value\"]"
      ],
      "metadata": {
        "id": "q847iqxJebHa"
      },
      "execution_count": null,
      "outputs": []
    },
    {
      "cell_type": "code",
      "source": [
        "# olist.head()"
      ],
      "metadata": {
        "id": "UZsNihPXebHa"
      },
      "execution_count": null,
      "outputs": []
    },
    {
      "cell_type": "code",
      "source": [
        "# import seaborn as sns\n",
        "# import matplotlib.pyplot as plt\n",
        "\n",
        "# plt.figure(figsize=(15,7))\n",
        "# plt.subplot(1,2,1)\n",
        "# plt.title(\"Almost Normal Distribution\", fontsize=15)\n",
        "# sns.kdeplot(data = olist[\"payment_value\"])\n",
        "# plt.subplot(1,2,2)\n",
        "# plt.title(\"Skewed Distribution\", fontsize=15)\n",
        "# sns.boxplot(data = olist[\"payment_value\"], palette=\"Dark2\")\n",
        "# plt.show()"
      ],
      "metadata": {
        "id": "8kt8WfIMebHa"
      },
      "execution_count": null,
      "outputs": []
    },
    {
      "cell_type": "markdown",
      "source": [
        "### order_processing_time"
      ],
      "metadata": {
        "id": "7oDbNNq15JGM"
      }
    },
    {
      "cell_type": "code",
      "source": [
        "# import seaborn as sns\n",
        "# import matplotlib.pyplot as plt\n",
        "\n",
        "# plt.figure(figsize=(15,7))\n",
        "# plt.subplot(1,2,1)\n",
        "# plt.title(\"Almost Normal Distribution\", fontsize=15)\n",
        "# sns.kdeplot(data = olist[\"order_processing_time\"])\n",
        "# plt.subplot(1,2,2)\n",
        "# plt.title(\"Skewed Distribution\", fontsize=15)\n",
        "# sns.boxplot(data = olist[\"order_processing_time\"], palette=\"Dark2\")\n",
        "# plt.show()"
      ],
      "metadata": {
        "id": "VKQqBvMz5JGN"
      },
      "execution_count": null,
      "outputs": []
    },
    {
      "cell_type": "code",
      "source": [
        "# import numpy as np"
      ],
      "metadata": {
        "id": "CUu2c5a25JGN"
      },
      "execution_count": null,
      "outputs": []
    },
    {
      "cell_type": "code",
      "source": [
        "# #finding the Q1(25 percentile) and Q3(75 percentile)\n",
        "# q1 = olist[\"order_processing_time\"].quantile(0.25)\n",
        "# q2 = olist[\"order_processing_time\"].quantile(0.75)"
      ],
      "metadata": {
        "id": "GlF0O8mV5JGN"
      },
      "execution_count": null,
      "outputs": []
    },
    {
      "cell_type": "code",
      "source": [
        "# #finding out the value of Inter Quartile Range\n",
        "# IQR = q2 - q1"
      ],
      "metadata": {
        "id": "tuLmXPHB5JGN"
      },
      "execution_count": null,
      "outputs": []
    },
    {
      "cell_type": "code",
      "source": [
        "# #defining max and min limits\n",
        "# max_limit = q2 + (1.5 * IQR)\n",
        "# min_limit = q1 - (1.5 * IQR)"
      ],
      "metadata": {
        "id": "GSqlGdPR5JGN"
      },
      "execution_count": null,
      "outputs": []
    },
    {
      "cell_type": "code",
      "source": [
        "# #capping\n",
        "# nooutlier_olist = pd.DataFrame(np.where(olist[\"order_processing_time\"] > max_limit, max_limit,\n",
        "#          (np.where(olist[\"order_processing_time\"] < min_limit, min_limit, olist[\"order_processing_time\"]))), columns=[\"order_processing_time\"])"
      ],
      "metadata": {
        "id": "UM6wCuh35JGN"
      },
      "execution_count": null,
      "outputs": []
    },
    {
      "cell_type": "code",
      "source": [
        "# olist['order_processing_time'] = nooutlier_olist[\"order_processing_time\"]"
      ],
      "metadata": {
        "id": "tIehdft55JGN"
      },
      "execution_count": null,
      "outputs": []
    },
    {
      "cell_type": "code",
      "source": [
        "# olist.head()"
      ],
      "metadata": {
        "id": "-q9Mkeg25JGO"
      },
      "execution_count": null,
      "outputs": []
    },
    {
      "cell_type": "code",
      "source": [
        "# import seaborn as sns\n",
        "# import matplotlib.pyplot as plt\n",
        "\n",
        "# plt.figure(figsize=(15,7))\n",
        "# plt.subplot(1,2,1)\n",
        "# plt.title(\"Almost Normal Distribution\", fontsize=15)\n",
        "# sns.kdeplot(data = olist[\"order_processing_time\"])\n",
        "# plt.subplot(1,2,2)\n",
        "# plt.title(\"Skewed Distribution\", fontsize=15)\n",
        "# sns.boxplot(data = olist[\"order_processing_time\"], palette=\"Dark2\")\n",
        "# plt.show()"
      ],
      "metadata": {
        "id": "yMUZ4d-Y5JGO"
      },
      "execution_count": null,
      "outputs": []
    },
    {
      "cell_type": "markdown",
      "source": [
        "### delay_day"
      ],
      "metadata": {
        "id": "B5GSeEpO5JGO"
      }
    },
    {
      "cell_type": "code",
      "source": [
        "# import seaborn as sns\n",
        "# import matplotlib.pyplot as plt\n",
        "\n",
        "# plt.figure(figsize=(15,7))\n",
        "# plt.subplot(1,2,1)\n",
        "# plt.title(\"Almost Normal Distribution\", fontsize=15)\n",
        "# sns.kdeplot(data = olist[\"delay_day\"])\n",
        "# plt.subplot(1,2,2)\n",
        "# plt.title(\"Skewed Distribution\", fontsize=15)\n",
        "# sns.boxplot(data = olist[\"delay_day\"], palette=\"Dark2\")\n",
        "# plt.show()"
      ],
      "metadata": {
        "id": "hFfjrk-S5JGO"
      },
      "execution_count": null,
      "outputs": []
    },
    {
      "cell_type": "code",
      "source": [
        "# import numpy as np"
      ],
      "metadata": {
        "id": "VjnJRm3I5JGP"
      },
      "execution_count": null,
      "outputs": []
    },
    {
      "cell_type": "code",
      "source": [
        "# #finding the Q1(25 percentile) and Q3(75 percentile)\n",
        "# q1 = olist[\"delay_day\"].quantile(0.25)\n",
        "# q2 = olist[\"delay_day\"].quantile(0.75)"
      ],
      "metadata": {
        "id": "Ld941Ooq5JGP"
      },
      "execution_count": null,
      "outputs": []
    },
    {
      "cell_type": "code",
      "source": [
        "# #finding out the value of Inter Quartile Range\n",
        "# IQR = q2 - q1"
      ],
      "metadata": {
        "id": "3hRdyAUn5JGP"
      },
      "execution_count": null,
      "outputs": []
    },
    {
      "cell_type": "code",
      "source": [
        "# #defining max and min limits\n",
        "# max_limit = q2 + (1.5 * IQR)\n",
        "# min_limit = q1 - (1.5 * IQR)"
      ],
      "metadata": {
        "id": "xOdKhrdN5JGP"
      },
      "execution_count": null,
      "outputs": []
    },
    {
      "cell_type": "code",
      "source": [
        "# #capping\n",
        "# nooutlier_olist = pd.DataFrame(np.where(olist[\"delay_day\"] > max_limit, max_limit,\n",
        "#          (np.where(olist[\"delay_day\"] < min_limit, min_limit, olist[\"delay_day\"]))), columns=[\"delay_day\"])"
      ],
      "metadata": {
        "id": "vfOL4sXH5JGP"
      },
      "execution_count": null,
      "outputs": []
    },
    {
      "cell_type": "code",
      "source": [
        "# olist['delay_day'] = nooutlier_olist[\"delay_day\"]"
      ],
      "metadata": {
        "id": "Jx1o8_q75JGP"
      },
      "execution_count": null,
      "outputs": []
    },
    {
      "cell_type": "code",
      "source": [
        "# olist.head()"
      ],
      "metadata": {
        "id": "0yoz7aje5JGP"
      },
      "execution_count": null,
      "outputs": []
    },
    {
      "cell_type": "code",
      "source": [
        "# import seaborn as sns\n",
        "# import matplotlib.pyplot as plt\n",
        "\n",
        "# plt.figure(figsize=(15,7))\n",
        "# plt.subplot(1,2,1)\n",
        "# plt.title(\"Almost Normal Distribution\", fontsize=15)\n",
        "# sns.kdeplot(data = olist[\"payment_value\"])\n",
        "# plt.subplot(1,2,2)\n",
        "# plt.title(\"Skewed Distribution\", fontsize=15)\n",
        "# sns.boxplot(data = olist[\"payment_value\"], palette=\"Dark2\")\n",
        "# plt.show()"
      ],
      "metadata": {
        "id": "2Fa-0aWL5JGP"
      },
      "execution_count": null,
      "outputs": []
    },
    {
      "cell_type": "code",
      "source": [
        "# olist.isna().sum()"
      ],
      "metadata": {
        "id": "8nI5Q6p9fbkG"
      },
      "execution_count": null,
      "outputs": []
    },
    {
      "cell_type": "code",
      "source": [
        "# olist.dropna(inplace=True, axis=0)"
      ],
      "metadata": {
        "id": "kAvAnM3bgCzH"
      },
      "execution_count": null,
      "outputs": []
    },
    {
      "cell_type": "code",
      "source": [
        "olist.isna().sum().sum()"
      ],
      "metadata": {
        "colab": {
          "base_uri": "https://localhost:8080/"
        },
        "id": "UR7lGKxzgIom",
        "outputId": "4115da28-5ef7-4366-8c3c-c4c315bf6cb2"
      },
      "execution_count": null,
      "outputs": [
        {
          "output_type": "execute_result",
          "data": {
            "text/plain": [
              "0"
            ]
          },
          "metadata": {},
          "execution_count": 64
        }
      ]
    },
    {
      "cell_type": "code",
      "source": [
        "import seaborn as sns\n",
        "import matplotlib.pyplot as plt\n",
        "\n",
        "plt.figure(figsize=(18,15))\n",
        "\n",
        "sns.heatmap(\n",
        "    olist.corr(),\n",
        "    annot=True,\n",
        "    linecolor='white',\n",
        "    linewidths=1,\n",
        "    fmt='.3f'\n",
        ")"
      ],
      "metadata": {
        "colab": {
          "base_uri": "https://localhost:8080/",
          "height": 995
        },
        "id": "_nls7-FXiZlM",
        "outputId": "adb8f6f2-936d-448a-a4ed-b074ca967d43"
      },
      "execution_count": null,
      "outputs": [
        {
          "output_type": "execute_result",
          "data": {
            "text/plain": [
              "<matplotlib.axes._subplots.AxesSubplot at 0x7fe2b74ab280>"
            ]
          },
          "metadata": {},
          "execution_count": 65
        },
        {
          "output_type": "display_data",
          "data": {
            "text/plain": [
              "<Figure size 1296x1080 with 2 Axes>"
            ],
            "image/png": "[encoded data removed]"
          },
          "metadata": {
            "needs_background": "light"
          }
        }
      ]
    },
    {
      "cell_type": "markdown",
      "metadata": {
        "id": "LOsdECKmbrfx"
      },
      "source": [
        "# Clustering"
      ]
    },
    {
      "cell_type": "code",
      "execution_count": null,
      "metadata": {
        "id": "KpiH5wAmbslv"
      },
      "outputs": [],
      "source": [
        "from sklearn.cluster import KMeans\n",
        "from yellowbrick.cluster import KElbowVisualizer"
      ]
    },
    {
      "cell_type": "markdown",
      "source": [
        "## delay_day & order_processing_time"
      ],
      "metadata": {
        "id": "WPdG_zD428Sk"
      }
    },
    {
      "cell_type": "code",
      "execution_count": null,
      "metadata": {
        "id": "E1dtUR2VD74k"
      },
      "outputs": [],
      "source": [
        "# categoric_column = ['customer_city', 'product_id', 'product_category_name', 'seller_id', 'seller_city']\n",
        "numeric_column = ['delay_day', 'order_processing_time']\n",
        "olist_clust = olist[numeric_column]"
      ]
    },
    {
      "cell_type": "code",
      "execution_count": null,
      "metadata": {
        "id": "Q2Fa4dRPdtDa",
        "colab": {
          "base_uri": "https://localhost:8080/"
        },
        "outputId": "37497c0e-413c-49e0-c6f3-eec6f328f911"
      },
      "outputs": [
        {
          "output_type": "execute_result",
          "data": {
            "text/plain": [
              "Index(['delay_day', 'order_processing_time'], dtype='object')"
            ]
          },
          "metadata": {},
          "execution_count": 68
        }
      ],
      "source": [
        "olist_clust.columns"
      ]
    },
    {
      "cell_type": "code",
      "execution_count": null,
      "metadata": {
        "id": "D42Fqil2cNjW",
        "colab": {
          "base_uri": "https://localhost:8080/",
          "height": 393
        },
        "outputId": "89d81ac7-c974-4f60-8767-2fd62796d549"
      },
      "outputs": [
        {
          "output_type": "display_data",
          "data": {
            "text/plain": [
              "<Figure size 576x396 with 2 Axes>"
            ],
            "image/png": "[encoded data removed]"
          },
          "metadata": {}
        },
        {
          "output_type": "execute_result",
          "data": {
            "text/plain": [
              "<matplotlib.axes._subplots.AxesSubplot at 0x7fe2b1357d60>"
            ]
          },
          "metadata": {},
          "execution_count": 83
        }
      ],
      "source": [
        "from pandas.core.common import random_state\n",
        "\n",
        "Elbow_M = KElbowVisualizer(KMeans(), k=10, random_state=42)\n",
        "Elbow_M.fit(olist_clust)\n",
        "Elbow_M.show()"
      ]
    },
    {
      "cell_type": "code",
      "execution_count": null,
      "metadata": {
        "id": "xWAoUCwXGaOq",
        "colab": {
          "base_uri": "https://localhost:8080/"
        },
        "outputId": "42c7c895-32c8-4817-d5cd-77b4c1aee058"
      },
      "outputs": [
        {
          "output_type": "execute_result",
          "data": {
            "text/plain": [
              "KMeans(n_clusters=5, random_state=42)"
            ]
          },
          "metadata": {},
          "execution_count": 70
        }
      ],
      "source": [
        "kmeans = KMeans(n_clusters=5, random_state=42)\n",
        "kmeans.fit(olist_clust)"
      ]
    },
    {
      "cell_type": "code",
      "execution_count": null,
      "metadata": {
        "id": "v6D-QlkTgV9K"
      },
      "outputs": [],
      "source": [
        "# olist_clust['clusters'] = kmeans.labels_\n",
        "olist['time_clusters'] = kmeans.labels_"
      ]
    },
    {
      "cell_type": "code",
      "source": [
        "def persen(ax, feature):\n",
        "    total = len(feature)\n",
        "    for p in ax.patches:\n",
        "        percentage = '{:.2f}%\\n'.format(100 * p.get_height()/total)\n",
        "        x = p.get_x() + p.get_width() / 2 - 0.05\n",
        "        y = p.get_y() + p.get_height()\n",
        "        ax.annotate(percentage, (x, y), size = 12)"
      ],
      "metadata": {
        "id": "HrSl6_gVEG0b"
      },
      "execution_count": null,
      "outputs": []
    },
    {
      "cell_type": "code",
      "execution_count": null,
      "metadata": {
        "id": "d4nYxrRlAaJ6",
        "colab": {
          "base_uri": "https://localhost:8080/",
          "height": 458
        },
        "outputId": "06861954-c217-4787-a55f-8506508a28a0"
      },
      "outputs": [
        {
          "output_type": "stream",
          "name": "stderr",
          "text": [
            "/usr/local/lib/python3.8/dist-packages/seaborn/_decorators.py:36: FutureWarning: Pass the following variable as a keyword arg: x. From version 0.12, the only valid positional argument will be `data`, and passing other arguments without an explicit keyword will result in an error or misinterpretation.\n",
            "  warnings.warn(\n"
          ]
        },
        {
          "output_type": "display_data",
          "data": {
            "text/plain": [
              "<Figure size 576x396 with 1 Axes>"
            ],
            "image/png": "[encoded data removed]"
          },
          "metadata": {}
        }
      ],
      "source": [
        "import seaborn as sns\n",
        "import matplotlib.pyplot as plt\n",
        "\n",
        "cp = sns.countplot(olist['time_clusters'], palette='rainbow')\n",
        "cp.set_title(\"\\nDistribution Of The Clusters\\n\")\n",
        "\n",
        "persen(cp, olist['time_clusters'])"
      ]
    },
    {
      "cell_type": "code",
      "execution_count": null,
      "metadata": {
        "id": "VbQFm1avHCtU",
        "colab": {
          "base_uri": "https://localhost:8080/",
          "height": 376
        },
        "outputId": "d258a0f5-6c74-48ef-97ef-98990a464b68"
      },
      "outputs": [
        {
          "output_type": "display_data",
          "data": {
            "text/plain": [
              "<Figure size 576x396 with 1 Axes>"
            ],
            "image/png": "[encoded data removed]"
          },
          "metadata": {}
        }
      ],
      "source": [
        "import seaborn as sns\n",
        "import matplotlib.pyplot as plt\n",
        "\n",
        "pl = sns.scatterplot(x=olist['order_processing_time'],\n",
        "                     y=olist['delay_day'],\n",
        "                     hue=olist[\"time_clusters\"],\n",
        "                     palette='rainbow')\n",
        "\n",
        "pl.set_title(\"Time Clusters\")\n",
        "plt.legend()\n",
        "plt.show()"
      ]
    },
    {
      "cell_type": "markdown",
      "source": [
        "## price & payment_value"
      ],
      "metadata": {
        "id": "M9sLyNKn3EAH"
      }
    },
    {
      "cell_type": "code",
      "execution_count": null,
      "metadata": {
        "id": "r6UFJ_mJ3clm"
      },
      "outputs": [],
      "source": [
        "# categoric_column = ['customer_city', 'product_id', 'product_category_name', 'seller_id', 'seller_city']\n",
        "numeric_column = ['price', 'payment_value']\n",
        "olist_clust = olist[numeric_column]"
      ]
    },
    {
      "cell_type": "code",
      "execution_count": null,
      "metadata": {
        "colab": {
          "base_uri": "https://localhost:8080/"
        },
        "outputId": "f6d3325d-6c04-4942-fcf0-7b74a79f3bfa",
        "id": "QMvKeV7b3clq"
      },
      "outputs": [
        {
          "output_type": "execute_result",
          "data": {
            "text/plain": [
              "Index(['price', 'payment_value'], dtype='object')"
            ]
          },
          "metadata": {},
          "execution_count": 76
        }
      ],
      "source": [
        "olist_clust.columns"
      ]
    },
    {
      "cell_type": "code",
      "execution_count": null,
      "metadata": {
        "colab": {
          "base_uri": "https://localhost:8080/",
          "height": 393
        },
        "outputId": "2ec980dc-3e5b-43f0-b809-374cf7fb6bd2",
        "id": "bf-1Kk973clq"
      },
      "outputs": [
        {
          "output_type": "display_data",
          "data": {
            "text/plain": [
              "<Figure size 576x396 with 2 Axes>"
            ],
            "image/png": "[encoded data removed]"
          },
          "metadata": {}
        },
        {
          "output_type": "execute_result",
          "data": {
            "text/plain": [
              "<matplotlib.axes._subplots.AxesSubplot at 0x7fe2b10f4c40>"
            ]
          },
          "metadata": {},
          "execution_count": 87
        }
      ],
      "source": [
        "from pandas.core.common import random_state\n",
        "\n",
        "Elbow_M = KElbowVisualizer(KMeans(), k=10, random_state=42)\n",
        "Elbow_M.fit(olist_clust)\n",
        "Elbow_M.show()"
      ]
    },
    {
      "cell_type": "code",
      "execution_count": null,
      "metadata": {
        "colab": {
          "base_uri": "https://localhost:8080/"
        },
        "outputId": "daa9860b-ea40-4277-92aa-b818f910bc52",
        "id": "Tj1uOqj73clr"
      },
      "outputs": [
        {
          "output_type": "execute_result",
          "data": {
            "text/plain": [
              "KMeans(n_clusters=5, random_state=42)"
            ]
          },
          "metadata": {},
          "execution_count": 88
        }
      ],
      "source": [
        "kmeans = KMeans(n_clusters=5, random_state=42)\n",
        "kmeans.fit(olist_clust)"
      ]
    },
    {
      "cell_type": "code",
      "execution_count": null,
      "metadata": {
        "id": "rLvI1Vnd3clr"
      },
      "outputs": [],
      "source": [
        "# olist_clust['clusters'] = kmeans.labels_\n",
        "olist['price_clusters'] = kmeans.labels_"
      ]
    },
    {
      "cell_type": "code",
      "source": [
        "def persen(ax, feature):\n",
        "    total = len(feature)\n",
        "    for p in ax.patches:\n",
        "        percentage = '{:.2f}%\\n'.format(100 * p.get_height()/total)\n",
        "        x = p.get_x() + p.get_width() / 2 - 0.05\n",
        "        y = p.get_y() + p.get_height()\n",
        "        ax.annotate(percentage, (x, y), size = 12)"
      ],
      "metadata": {
        "id": "ZAneKImiFAtW"
      },
      "execution_count": null,
      "outputs": []
    },
    {
      "cell_type": "code",
      "execution_count": null,
      "metadata": {
        "colab": {
          "base_uri": "https://localhost:8080/",
          "height": 458
        },
        "outputId": "cedfc524-da18-483b-a852-c6ed234afef5",
        "id": "DtEShEnZ3clr"
      },
      "outputs": [
        {
          "output_type": "stream",
          "name": "stderr",
          "text": [
            "/usr/local/lib/python3.8/dist-packages/seaborn/_decorators.py:36: FutureWarning: Pass the following variable as a keyword arg: x. From version 0.12, the only valid positional argument will be `data`, and passing other arguments without an explicit keyword will result in an error or misinterpretation.\n",
            "  warnings.warn(\n"
          ]
        },
        {
          "output_type": "display_data",
          "data": {
            "text/plain": [
              "<Figure size 576x396 with 1 Axes>"
            ],
            "image/png": "[encoded data removed]"
          },
          "metadata": {}
        }
      ],
      "source": [
        "import seaborn as sns\n",
        "import matplotlib.pyplot as plt\n",
        "\n",
        "cp = sns.countplot(olist['price_clusters'], palette='rainbow')\n",
        "cp.set_title(\"\\nDistribution Of The Clusters\\n\")\n",
        "\n",
        "persen(cp, olist['price_clusters'])"
      ]
    },
    {
      "cell_type": "code",
      "execution_count": null,
      "metadata": {
        "id": "aJZkB7nxHism",
        "colab": {
          "base_uri": "https://localhost:8080/",
          "height": 376
        },
        "outputId": "1d09fb2f-0ee2-47d2-911a-3016a2acfdc9"
      },
      "outputs": [
        {
          "output_type": "display_data",
          "data": {
            "text/plain": [
              "<Figure size 576x396 with 1 Axes>"
            ],
            "image/png": "[encoded data removed]"
          },
          "metadata": {}
        }
      ],
      "source": [
        "import seaborn as sns\n",
        "import matplotlib.pyplot as plt\n",
        "\n",
        "pl = sns.scatterplot(x=olist['price'],\n",
        "                     y=olist['payment_value'],\n",
        "                     hue=olist[\"price_clusters\"],\n",
        "                     palette='rainbow')\n",
        "\n",
        "pl.set_title(\"Price Clusters\")\n",
        "plt.legend()\n",
        "plt.show()"
      ]
    }
  ],
  "metadata": {
    "accelerator": "GPU",
    "colab": {
      "provenance": []
    },
    "gpuClass": "standard",
    "kernelspec": {
      "display_name": "Python 3",
      "name": "python3"
    },
    "language_info": {
      "name": "python"
    }
  },
  "nbformat": 4,
  "nbformat_minor": 0
}